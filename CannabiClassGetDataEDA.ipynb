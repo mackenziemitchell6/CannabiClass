{
 "cells": [
  {
   "cell_type": "markdown",
   "metadata": {},
   "source": [
    "# Getting Data From API/Web Scraping"
   ]
  },
  {
   "cell_type": "markdown",
   "metadata": {},
   "source": [
    "## Import Needed Libraries"
   ]
  },
  {
   "cell_type": "code",
   "execution_count": 3,
   "metadata": {},
   "outputs": [],
   "source": [
    "import pandas as pd\n",
    "import numpy as np\n",
    "import seaborn as sns\n",
    "import matplotlib.pyplot as plt\n",
    "from scipy import stats\n",
    "import pickle\n",
    "import requests\n",
    "%matplotlib inline\n",
    "import warnings\n",
    "warnings.filterwarnings('ignore')"
   ]
  },
  {
   "cell_type": "markdown",
   "metadata": {},
   "source": [
    "## Make API Call and Create DataFrame"
   ]
  },
  {
   "cell_type": "code",
   "execution_count": 4,
   "metadata": {},
   "outputs": [],
   "source": [
    "url='http://strainapi.evanbusse.com/80Bxz5h/strains/search/all'\n",
    "response=requests.get(url)\n",
    "dat=response.json()"
   ]
  },
  {
   "cell_type": "code",
   "execution_count": 6,
   "metadata": {},
   "outputs": [
    {
     "data": {
      "text/html": [
       "<div>\n",
       "<style scoped>\n",
       "    .dataframe tbody tr th:only-of-type {\n",
       "        vertical-align: middle;\n",
       "    }\n",
       "\n",
       "    .dataframe tbody tr th {\n",
       "        vertical-align: top;\n",
       "    }\n",
       "\n",
       "    .dataframe thead th {\n",
       "        text-align: right;\n",
       "    }\n",
       "</style>\n",
       "<table border=\"1\" class=\"dataframe\">\n",
       "  <thead>\n",
       "    <tr style=\"text-align: right;\">\n",
       "      <th></th>\n",
       "      <th>name</th>\n",
       "      <th>type</th>\n",
       "      <th>effects</th>\n",
       "    </tr>\n",
       "  </thead>\n",
       "  <tbody>\n",
       "    <tr>\n",
       "      <th>0</th>\n",
       "      <td>Afpak</td>\n",
       "      <td>hybrid</td>\n",
       "      <td>[Relaxed, Hungry, Happy, Sleepy, Dizzy, Depres...</td>\n",
       "    </tr>\n",
       "    <tr>\n",
       "      <th>1</th>\n",
       "      <td>African</td>\n",
       "      <td>sativa</td>\n",
       "      <td>[Euphoric, Happy, Creative, Energetic, Talkati...</td>\n",
       "    </tr>\n",
       "    <tr>\n",
       "      <th>2</th>\n",
       "      <td>Afternoon Delight</td>\n",
       "      <td>hybrid</td>\n",
       "      <td>[Relaxed, Hungry, Euphoric, Uplifted, Tingly, ...</td>\n",
       "    </tr>\n",
       "  </tbody>\n",
       "</table>\n",
       "</div>"
      ],
      "text/plain": [
       "                name    type  \\\n",
       "0              Afpak  hybrid   \n",
       "1            African  sativa   \n",
       "2  Afternoon Delight  hybrid   \n",
       "\n",
       "                                             effects  \n",
       "0  [Relaxed, Hungry, Happy, Sleepy, Dizzy, Depres...  \n",
       "1  [Euphoric, Happy, Creative, Energetic, Talkati...  \n",
       "2  [Relaxed, Hungry, Euphoric, Uplifted, Tingly, ...  "
      ]
     },
     "execution_count": 6,
     "metadata": {},
     "output_type": "execute_result"
    }
   ],
   "source": [
    "names=list(dat.keys())\n",
    "positive,negative,medical,posi,neg,med,eff,tye=[],[],[],[],[],[],[],[]\n",
    "for n in names:\n",
    "    tye.append(dat[n]['race'])\n",
    "    eff.append(dat[n]['effects']['positive']+dat[n]['effects']['negative']+dat[n]['effects']['medical'])\n",
    "    positive.append(dat[n]['effects']['positive'])\n",
    "    posi.append(len(dat[n]['effects']['positive']))\n",
    "    negative.append(dat[n]['effects']['negative'])\n",
    "    neg.append(len(dat[n]['effects']['negative']))\n",
    "    medical.append(dat[n]['effects']['medical'])\n",
    "    med.append(len(dat[n]['effects']['medical']))\n",
    "dic={'name':names,'type':tye,'effects':eff}\n",
    "df=pd.DataFrame(dic)\n",
    "df.head(3)"
   ]
  },
  {
   "cell_type": "markdown",
   "metadata": {},
   "source": [
    "## Clean-up DataFrame, Get Dummies for all Effects"
   ]
  },
  {
   "cell_type": "code",
   "execution_count": 7,
   "metadata": {},
   "outputs": [],
   "source": [
    "effects=[]\n",
    "pos=list(eff)\n",
    "for p in pos:\n",
    "    for i in p:\n",
    "        if i not in effects:\n",
    "            effects.append(i)\n",
    "for i in effects:\n",
    "    title=str(i)\n",
    "    title=[]\n",
    "    for x in df['effects']:\n",
    "        if i in x:\n",
    "            title.append(1)\n",
    "        else:\n",
    "            title.append(0)\n",
    "    df[i]=title"
   ]
  },
  {
   "cell_type": "markdown",
   "metadata": {},
   "source": [
    "## Get Categorical Variables for Type and Create Positive, Negative, and Medical Scores (FEATURE ENGINEERING)"
   ]
  },
  {
   "cell_type": "markdown",
   "metadata": {},
   "source": [
    "### Indica: 0 Sativa: 1 Hybrid: 2"
   ]
  },
  {
   "cell_type": "code",
   "execution_count": null,
   "metadata": {},
   "outputs": [],
   "source": [
    "df.drop(columns='effects',inplace=True)\n",
    "df.type=df.type.map({'indica':0,'sativa':1,'hybrid':2})\n",
    "lowers=[]\n",
    "for n in df['name']:\n",
    "    lowers.append(n.lower())\n",
    "df['name']=lowers\n",
    "df['positive']=posi\n",
    "df['negative']=neg\n",
    "df['medical']=med"
   ]
  },
  {
   "cell_type": "markdown",
   "metadata": {},
   "source": [
    "## Visualizing Indica, Sativa, and Hybrid. Describes what a Hybrid Strain Is"
   ]
  },
  {
   "cell_type": "code",
   "execution_count": null,
   "metadata": {},
   "outputs": [],
   "source": [
    "plt.figure(figsize=(10,5))\n",
    "venn2(subsets=(len(df[df['type']==0]),len(df[df['type']==1]),len(df[df['type']==2])),set_labels=('Indica','Sativa'))\n",
    "plt.savefig('VennDiagram_Indica_Sativa')"
   ]
  }
 ],
 "metadata": {
  "kernelspec": {
   "display_name": "Python 3",
   "language": "python",
   "name": "python3"
  },
  "language_info": {
   "codemirror_mode": {
    "name": "ipython",
    "version": 3
   },
   "file_extension": ".py",
   "mimetype": "text/x-python",
   "name": "python",
   "nbconvert_exporter": "python",
   "pygments_lexer": "ipython3",
   "version": "3.7.3"
  }
 },
 "nbformat": 4,
 "nbformat_minor": 2
}
