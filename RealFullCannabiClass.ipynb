{
 "cells": [
  {
   "cell_type": "markdown",
   "metadata": {},
   "source": [
    "# Importing Libraries and getting url"
   ]
  },
  {
   "cell_type": "code",
   "execution_count": 124,
   "metadata": {
    "scrolled": true
   },
   "outputs": [],
   "source": [
    "import pandas as pd\n",
    "import numpy as np\n",
    "from sklearn.model_selection import train_test_split, GridSearchCV, cross_val_score\n",
    "import seaborn as sns\n",
    "import matplotlib.pyplot as plt\n",
    "from scipy import stats\n",
    "from sklearn.neighbors import KNeighborsClassifier\n",
    "from sklearn.preprocessing import StandardScaler, label_binarize\n",
    "from sklearn.metrics import precision_score, recall_score, accuracy_score, f1_score, roc_curve\n",
    "from sklearn.metrics import auc, classification_report, confusion_matrix\n",
    "from sklearn import tree, svm\n",
    "from sklearn.naive_bayes import GaussianNB\n",
    "from sklearn.tree import DecisionTreeClassifier\n",
    "from sklearn.ensemble import BaggingClassifier, RandomForestClassifier, AdaBoostClassifier\n",
    "from sklearn.externals.six import StringIO \n",
    "import xgboost as xgb\n",
    "import pickle\n",
    "from sklearn.dummy import DummyClassifier\n",
    "from sklearn.decomposition import PCA  \n",
    "from Funnky import print_metrics, find_best_k, roc, plot_feature_importances\n",
    "from sklearn.linear_model import LogisticRegression\n",
    "%matplotlib inline\n",
    "import warnings\n",
    "warnings.filterwarnings('ignore')\n",
    "with open('df.pickle','rb') as file:\n",
    "    fulldf=pickle.load(file)"
   ]
  },
  {
   "cell_type": "markdown",
   "metadata": {},
   "source": [
    "## PCA ??? CONFUSED"
   ]
  },
  {
   "cell_type": "code",
   "execution_count": 125,
   "metadata": {},
   "outputs": [],
   "source": [
    "pca = PCA()\n",
    "features=fulldf.drop(columns='name')\n",
    "transformed = pca.fit_transform(features)"
   ]
  },
  {
   "cell_type": "code",
   "execution_count": 126,
   "metadata": {
    "scrolled": true
   },
   "outputs": [],
   "source": [
    "# plt.scatter(transformed[:,0], transformed[:,1],hue='ty');\n",
    "pca.components_\n",
    "pcadict={'feat1':transformed[:,0],'feat2':transformed[:,1]}"
   ]
  },
  {
   "cell_type": "code",
   "execution_count": 127,
   "metadata": {},
   "outputs": [],
   "source": [
    "pcadf=pd.DataFrame(pcadict)"
   ]
  },
  {
   "cell_type": "code",
   "execution_count": 128,
   "metadata": {
    "scrolled": true
   },
   "outputs": [
    {
     "data": {
      "text/html": [
       "<div>\n",
       "<style scoped>\n",
       "    .dataframe tbody tr th:only-of-type {\n",
       "        vertical-align: middle;\n",
       "    }\n",
       "\n",
       "    .dataframe tbody tr th {\n",
       "        vertical-align: top;\n",
       "    }\n",
       "\n",
       "    .dataframe thead th {\n",
       "        text-align: right;\n",
       "    }\n",
       "</style>\n",
       "<table border=\"1\" class=\"dataframe\">\n",
       "  <thead>\n",
       "    <tr style=\"text-align: right;\">\n",
       "      <th></th>\n",
       "      <th>feat1</th>\n",
       "      <th>feat2</th>\n",
       "      <th>target</th>\n",
       "    </tr>\n",
       "  </thead>\n",
       "  <tbody>\n",
       "    <tr>\n",
       "      <th>0</th>\n",
       "      <td>11.434610</td>\n",
       "      <td>0.964248</td>\n",
       "      <td>1</td>\n",
       "    </tr>\n",
       "    <tr>\n",
       "      <th>1</th>\n",
       "      <td>3.384114</td>\n",
       "      <td>-0.879409</td>\n",
       "      <td>2</td>\n",
       "    </tr>\n",
       "    <tr>\n",
       "      <th>2</th>\n",
       "      <td>-4.623586</td>\n",
       "      <td>-1.595153</td>\n",
       "      <td>2</td>\n",
       "    </tr>\n",
       "    <tr>\n",
       "      <th>3</th>\n",
       "      <td>6.345836</td>\n",
       "      <td>-2.059449</td>\n",
       "      <td>2</td>\n",
       "    </tr>\n",
       "    <tr>\n",
       "      <th>4</th>\n",
       "      <td>3.445988</td>\n",
       "      <td>0.732524</td>\n",
       "      <td>2</td>\n",
       "    </tr>\n",
       "    <tr>\n",
       "      <th>5</th>\n",
       "      <td>-9.628340</td>\n",
       "      <td>-1.045052</td>\n",
       "      <td>1</td>\n",
       "    </tr>\n",
       "    <tr>\n",
       "      <th>6</th>\n",
       "      <td>-0.631371</td>\n",
       "      <td>-1.370067</td>\n",
       "      <td>1</td>\n",
       "    </tr>\n",
       "    <tr>\n",
       "      <th>7</th>\n",
       "      <td>6.361583</td>\n",
       "      <td>-2.037468</td>\n",
       "      <td>2</td>\n",
       "    </tr>\n",
       "    <tr>\n",
       "      <th>8</th>\n",
       "      <td>-0.487268</td>\n",
       "      <td>2.876882</td>\n",
       "      <td>2</td>\n",
       "    </tr>\n",
       "    <tr>\n",
       "      <th>9</th>\n",
       "      <td>6.481758</td>\n",
       "      <td>1.912625</td>\n",
       "      <td>2</td>\n",
       "    </tr>\n",
       "    <tr>\n",
       "      <th>10</th>\n",
       "      <td>-1.629622</td>\n",
       "      <td>-1.257382</td>\n",
       "      <td>1</td>\n",
       "    </tr>\n",
       "    <tr>\n",
       "      <th>11</th>\n",
       "      <td>-7.535249</td>\n",
       "      <td>1.171089</td>\n",
       "      <td>2</td>\n",
       "    </tr>\n",
       "    <tr>\n",
       "      <th>12</th>\n",
       "      <td>1.500711</td>\n",
       "      <td>2.009052</td>\n",
       "      <td>2</td>\n",
       "    </tr>\n",
       "    <tr>\n",
       "      <th>13</th>\n",
       "      <td>0.426419</td>\n",
       "      <td>0.608146</td>\n",
       "      <td>0</td>\n",
       "    </tr>\n",
       "    <tr>\n",
       "      <th>14</th>\n",
       "      <td>1.331508</td>\n",
       "      <td>-2.561513</td>\n",
       "      <td>0</td>\n",
       "    </tr>\n",
       "    <tr>\n",
       "      <th>15</th>\n",
       "      <td>1.489242</td>\n",
       "      <td>2.761383</td>\n",
       "      <td>2</td>\n",
       "    </tr>\n",
       "    <tr>\n",
       "      <th>16</th>\n",
       "      <td>2.339635</td>\n",
       "      <td>-2.000710</td>\n",
       "      <td>0</td>\n",
       "    </tr>\n",
       "    <tr>\n",
       "      <th>17</th>\n",
       "      <td>-6.653278</td>\n",
       "      <td>-2.192425</td>\n",
       "      <td>2</td>\n",
       "    </tr>\n",
       "    <tr>\n",
       "      <th>18</th>\n",
       "      <td>-6.491490</td>\n",
       "      <td>3.056128</td>\n",
       "      <td>2</td>\n",
       "    </tr>\n",
       "    <tr>\n",
       "      <th>19</th>\n",
       "      <td>-2.538703</td>\n",
       "      <td>1.762405</td>\n",
       "      <td>0</td>\n",
       "    </tr>\n",
       "    <tr>\n",
       "      <th>20</th>\n",
       "      <td>3.309744</td>\n",
       "      <td>-2.587608</td>\n",
       "      <td>2</td>\n",
       "    </tr>\n",
       "    <tr>\n",
       "      <th>21</th>\n",
       "      <td>-6.491343</td>\n",
       "      <td>3.336644</td>\n",
       "      <td>2</td>\n",
       "    </tr>\n",
       "    <tr>\n",
       "      <th>22</th>\n",
       "      <td>2.485419</td>\n",
       "      <td>1.956771</td>\n",
       "      <td>0</td>\n",
       "    </tr>\n",
       "    <tr>\n",
       "      <th>23</th>\n",
       "      <td>12.538083</td>\n",
       "      <td>2.755549</td>\n",
       "      <td>0</td>\n",
       "    </tr>\n",
       "    <tr>\n",
       "      <th>24</th>\n",
       "      <td>-6.664865</td>\n",
       "      <td>-2.154914</td>\n",
       "      <td>1</td>\n",
       "    </tr>\n",
       "    <tr>\n",
       "      <th>25</th>\n",
       "      <td>3.521546</td>\n",
       "      <td>2.276165</td>\n",
       "      <td>0</td>\n",
       "    </tr>\n",
       "    <tr>\n",
       "      <th>26</th>\n",
       "      <td>-2.588386</td>\n",
       "      <td>-0.240682</td>\n",
       "      <td>1</td>\n",
       "    </tr>\n",
       "    <tr>\n",
       "      <th>27</th>\n",
       "      <td>1.369519</td>\n",
       "      <td>-1.340857</td>\n",
       "      <td>1</td>\n",
       "    </tr>\n",
       "    <tr>\n",
       "      <th>28</th>\n",
       "      <td>0.501676</td>\n",
       "      <td>1.943768</td>\n",
       "      <td>1</td>\n",
       "    </tr>\n",
       "    <tr>\n",
       "      <th>29</th>\n",
       "      <td>-2.622110</td>\n",
       "      <td>-1.302616</td>\n",
       "      <td>2</td>\n",
       "    </tr>\n",
       "    <tr>\n",
       "      <th>...</th>\n",
       "      <td>...</td>\n",
       "      <td>...</td>\n",
       "      <td>...</td>\n",
       "    </tr>\n",
       "    <tr>\n",
       "      <th>1344</th>\n",
       "      <td>-0.415614</td>\n",
       "      <td>3.914699</td>\n",
       "      <td>2</td>\n",
       "    </tr>\n",
       "    <tr>\n",
       "      <th>1345</th>\n",
       "      <td>3.463940</td>\n",
       "      <td>0.111512</td>\n",
       "      <td>2</td>\n",
       "    </tr>\n",
       "    <tr>\n",
       "      <th>1346</th>\n",
       "      <td>-1.638754</td>\n",
       "      <td>-1.377434</td>\n",
       "      <td>2</td>\n",
       "    </tr>\n",
       "    <tr>\n",
       "      <th>1347</th>\n",
       "      <td>-0.576577</td>\n",
       "      <td>0.796648</td>\n",
       "      <td>2</td>\n",
       "    </tr>\n",
       "    <tr>\n",
       "      <th>1348</th>\n",
       "      <td>1.321698</td>\n",
       "      <td>-2.446372</td>\n",
       "      <td>2</td>\n",
       "    </tr>\n",
       "    <tr>\n",
       "      <th>1349</th>\n",
       "      <td>2.349315</td>\n",
       "      <td>-1.513079</td>\n",
       "      <td>2</td>\n",
       "    </tr>\n",
       "    <tr>\n",
       "      <th>1350</th>\n",
       "      <td>2.533131</td>\n",
       "      <td>2.758537</td>\n",
       "      <td>2</td>\n",
       "    </tr>\n",
       "    <tr>\n",
       "      <th>1351</th>\n",
       "      <td>-0.642887</td>\n",
       "      <td>-1.833125</td>\n",
       "      <td>1</td>\n",
       "    </tr>\n",
       "    <tr>\n",
       "      <th>1352</th>\n",
       "      <td>-6.497289</td>\n",
       "      <td>2.965703</td>\n",
       "      <td>1</td>\n",
       "    </tr>\n",
       "    <tr>\n",
       "      <th>1353</th>\n",
       "      <td>-0.583842</td>\n",
       "      <td>-0.253536</td>\n",
       "      <td>2</td>\n",
       "    </tr>\n",
       "    <tr>\n",
       "      <th>1354</th>\n",
       "      <td>1.377767</td>\n",
       "      <td>-1.623986</td>\n",
       "      <td>2</td>\n",
       "    </tr>\n",
       "    <tr>\n",
       "      <th>1355</th>\n",
       "      <td>0.339523</td>\n",
       "      <td>-1.733935</td>\n",
       "      <td>2</td>\n",
       "    </tr>\n",
       "    <tr>\n",
       "      <th>1356</th>\n",
       "      <td>-1.655722</td>\n",
       "      <td>-1.789482</td>\n",
       "      <td>0</td>\n",
       "    </tr>\n",
       "    <tr>\n",
       "      <th>1357</th>\n",
       "      <td>0.473553</td>\n",
       "      <td>1.840117</td>\n",
       "      <td>2</td>\n",
       "    </tr>\n",
       "    <tr>\n",
       "      <th>1358</th>\n",
       "      <td>-2.657866</td>\n",
       "      <td>-1.752192</td>\n",
       "      <td>2</td>\n",
       "    </tr>\n",
       "    <tr>\n",
       "      <th>1359</th>\n",
       "      <td>-2.547335</td>\n",
       "      <td>1.831473</td>\n",
       "      <td>0</td>\n",
       "    </tr>\n",
       "    <tr>\n",
       "      <th>1360</th>\n",
       "      <td>0.317601</td>\n",
       "      <td>-2.544303</td>\n",
       "      <td>0</td>\n",
       "    </tr>\n",
       "    <tr>\n",
       "      <th>1361</th>\n",
       "      <td>3.522017</td>\n",
       "      <td>2.717831</td>\n",
       "      <td>1</td>\n",
       "    </tr>\n",
       "    <tr>\n",
       "      <th>1362</th>\n",
       "      <td>-5.542069</td>\n",
       "      <td>0.624178</td>\n",
       "      <td>1</td>\n",
       "    </tr>\n",
       "    <tr>\n",
       "      <th>1363</th>\n",
       "      <td>1.463947</td>\n",
       "      <td>1.620685</td>\n",
       "      <td>0</td>\n",
       "    </tr>\n",
       "    <tr>\n",
       "      <th>1364</th>\n",
       "      <td>-0.663400</td>\n",
       "      <td>-1.920501</td>\n",
       "      <td>0</td>\n",
       "    </tr>\n",
       "    <tr>\n",
       "      <th>1365</th>\n",
       "      <td>-3.537812</td>\n",
       "      <td>0.979357</td>\n",
       "      <td>2</td>\n",
       "    </tr>\n",
       "    <tr>\n",
       "      <th>1366</th>\n",
       "      <td>1.341102</td>\n",
       "      <td>-2.018259</td>\n",
       "      <td>0</td>\n",
       "    </tr>\n",
       "    <tr>\n",
       "      <th>1367</th>\n",
       "      <td>18.414568</td>\n",
       "      <td>-0.787005</td>\n",
       "      <td>2</td>\n",
       "    </tr>\n",
       "    <tr>\n",
       "      <th>1368</th>\n",
       "      <td>10.404491</td>\n",
       "      <td>-0.569946</td>\n",
       "      <td>2</td>\n",
       "    </tr>\n",
       "    <tr>\n",
       "      <th>1369</th>\n",
       "      <td>-6.541647</td>\n",
       "      <td>1.485874</td>\n",
       "      <td>1</td>\n",
       "    </tr>\n",
       "    <tr>\n",
       "      <th>1370</th>\n",
       "      <td>-1.615775</td>\n",
       "      <td>-1.337944</td>\n",
       "      <td>2</td>\n",
       "    </tr>\n",
       "    <tr>\n",
       "      <th>1371</th>\n",
       "      <td>-1.625769</td>\n",
       "      <td>-0.894558</td>\n",
       "      <td>0</td>\n",
       "    </tr>\n",
       "    <tr>\n",
       "      <th>1372</th>\n",
       "      <td>0.334013</td>\n",
       "      <td>-1.943678</td>\n",
       "      <td>0</td>\n",
       "    </tr>\n",
       "    <tr>\n",
       "      <th>1373</th>\n",
       "      <td>-2.498558</td>\n",
       "      <td>2.847961</td>\n",
       "      <td>0</td>\n",
       "    </tr>\n",
       "  </tbody>\n",
       "</table>\n",
       "<p>1374 rows × 3 columns</p>\n",
       "</div>"
      ],
      "text/plain": [
       "          feat1     feat2  target\n",
       "0     11.434610  0.964248       1\n",
       "1      3.384114 -0.879409       2\n",
       "2     -4.623586 -1.595153       2\n",
       "3      6.345836 -2.059449       2\n",
       "4      3.445988  0.732524       2\n",
       "5     -9.628340 -1.045052       1\n",
       "6     -0.631371 -1.370067       1\n",
       "7      6.361583 -2.037468       2\n",
       "8     -0.487268  2.876882       2\n",
       "9      6.481758  1.912625       2\n",
       "10    -1.629622 -1.257382       1\n",
       "11    -7.535249  1.171089       2\n",
       "12     1.500711  2.009052       2\n",
       "13     0.426419  0.608146       0\n",
       "14     1.331508 -2.561513       0\n",
       "15     1.489242  2.761383       2\n",
       "16     2.339635 -2.000710       0\n",
       "17    -6.653278 -2.192425       2\n",
       "18    -6.491490  3.056128       2\n",
       "19    -2.538703  1.762405       0\n",
       "20     3.309744 -2.587608       2\n",
       "21    -6.491343  3.336644       2\n",
       "22     2.485419  1.956771       0\n",
       "23    12.538083  2.755549       0\n",
       "24    -6.664865 -2.154914       1\n",
       "25     3.521546  2.276165       0\n",
       "26    -2.588386 -0.240682       1\n",
       "27     1.369519 -1.340857       1\n",
       "28     0.501676  1.943768       1\n",
       "29    -2.622110 -1.302616       2\n",
       "...         ...       ...     ...\n",
       "1344  -0.415614  3.914699       2\n",
       "1345   3.463940  0.111512       2\n",
       "1346  -1.638754 -1.377434       2\n",
       "1347  -0.576577  0.796648       2\n",
       "1348   1.321698 -2.446372       2\n",
       "1349   2.349315 -1.513079       2\n",
       "1350   2.533131  2.758537       2\n",
       "1351  -0.642887 -1.833125       1\n",
       "1352  -6.497289  2.965703       1\n",
       "1353  -0.583842 -0.253536       2\n",
       "1354   1.377767 -1.623986       2\n",
       "1355   0.339523 -1.733935       2\n",
       "1356  -1.655722 -1.789482       0\n",
       "1357   0.473553  1.840117       2\n",
       "1358  -2.657866 -1.752192       2\n",
       "1359  -2.547335  1.831473       0\n",
       "1360   0.317601 -2.544303       0\n",
       "1361   3.522017  2.717831       1\n",
       "1362  -5.542069  0.624178       1\n",
       "1363   1.463947  1.620685       0\n",
       "1364  -0.663400 -1.920501       0\n",
       "1365  -3.537812  0.979357       2\n",
       "1366   1.341102 -2.018259       0\n",
       "1367  18.414568 -0.787005       2\n",
       "1368  10.404491 -0.569946       2\n",
       "1369  -6.541647  1.485874       1\n",
       "1370  -1.615775 -1.337944       2\n",
       "1371  -1.625769 -0.894558       0\n",
       "1372   0.334013 -1.943678       0\n",
       "1373  -2.498558  2.847961       0\n",
       "\n",
       "[1374 rows x 3 columns]"
      ]
     },
     "execution_count": 128,
     "metadata": {},
     "output_type": "execute_result"
    }
   ],
   "source": [
    "pcadf['target']=fulldf['type']\n",
    "pcadf"
   ]
  },
  {
   "cell_type": "code",
   "execution_count": 129,
   "metadata": {},
   "outputs": [
    {
     "data": {
      "text/plain": [
       "<matplotlib.axes._subplots.AxesSubplot at 0x7ff901bc7358>"
      ]
     },
     "execution_count": 129,
     "metadata": {},
     "output_type": "execute_result"
    },
    {
     "data": {
      "image/png": "[encoded data removed]",
      "text/plain": [
       "<Figure size 432x288 with 1 Axes>"
      ]
     },
     "metadata": {
      "needs_background": "light"
     },
     "output_type": "display_data"
    }
   ],
   "source": [
    "sns.scatterplot(x='feat1',y='feat2',hue='target',data=pcadf)"
   ]
  },
  {
   "cell_type": "code",
   "execution_count": 130,
   "metadata": {},
   "outputs": [
    {
     "data": {
      "text/plain": [
       "array([1.23726346e+00, 7.83114993e-01, 2.02328967e-01, 8.60262009e-01,\n",
       "       2.86026201e-01, 4.67976710e-01, 8.22416303e-01, 4.48326055e-01,\n",
       "       7.93304221e-01, 9.02474527e-01, 3.57350801e-01, 7.27802038e-01,\n",
       "       3.62445415e-01, 3.10043668e-01, 1.05531295e-01, 7.74381368e-01,\n",
       "       2.21979622e-01, 3.11499272e-01, 6.12809316e-01, 8.51528384e-02,\n",
       "       4.15574964e-01, 7.78748180e-02, 6.63027656e-01, 3.63901019e-01,\n",
       "       3.15866084e-01, 1.72489083e-01, 2.44541485e-01, 8.58806405e-02,\n",
       "       3.12954876e-01, 1.23726346e-01, 5.82241630e-02, 1.81222707e-01,\n",
       "       1.89228530e-02, 8.00582242e-03, 4.76200873e+00, 2.63391557e+00,\n",
       "       5.08151383e+00, 2.14163028e+01])"
      ]
     },
     "execution_count": 130,
     "metadata": {},
     "output_type": "execute_result"
    }
   ],
   "source": [
    "pca.mean_"
   ]
  },
  {
   "cell_type": "code",
   "execution_count": 131,
   "metadata": {},
   "outputs": [],
   "source": [
    "#put loading scores as a dataframe.apply to calculate each row"
   ]
  },
  {
   "cell_type": "markdown",
   "metadata": {},
   "source": [
    "## Train Test Split"
   ]
  },
  {
   "cell_type": "code",
   "execution_count": 132,
   "metadata": {},
   "outputs": [],
   "source": [
    "features=fulldf.drop(columns=['name','type'])\n",
    "trainn=fulldf.drop(columns='name')\n",
    "selectedfeatures=['thc','Relaxed','Hungry','Sleepy','Depression','Insomnia','Pain','Euphoric','Creative','Energetic','Dry Mouth','Nausea','Uplifted','Fatigue','Focused']\n",
    "# target=label_binarize(fulldf.type,classes=[0,1,2])\n",
    "target=fulldf.type\n",
    "# n_classes=target.shape[1]\n",
    "                    \n",
    "X_train, X_test, y_train, y_test = train_test_split(features, target, test_size=0.25,random_state=42)\n",
    "trainx=X_train[selectedfeatures]\n",
    "testx=X_test[selectedfeatures]"
   ]
  },
  {
   "cell_type": "code",
   "execution_count": 133,
   "metadata": {},
   "outputs": [],
   "source": [
    "featurespca=pcadf.drop(columns='target')\n",
    "targetpca=pcadf.target\n",
    "Xptrain, Xptest, yptrain, yptest = train_test_split(featurespca, targetpca, test_size=0.25,random_state=42)"
   ]
  },
  {
   "cell_type": "markdown",
   "metadata": {},
   "source": [
    "## Scale & Select Features "
   ]
  },
  {
   "cell_type": "code",
   "execution_count": 134,
   "metadata": {
    "scrolled": true
   },
   "outputs": [],
   "source": [
    "scaler = StandardScaler()\n",
    "\n",
    "scaled_data_train = scaler.fit_transform(X_train)\n",
    "scaled_data_test = scaler.transform(X_test)\n",
    "\n",
    "scaled_df_train = pd.DataFrame(scaled_data_train, columns=features.columns)"
   ]
  },
  {
   "cell_type": "markdown",
   "metadata": {},
   "source": [
    "### Scale Selected Features:"
   ]
  },
  {
   "cell_type": "code",
   "execution_count": 11,
   "metadata": {},
   "outputs": [],
   "source": [
    "scaled_data_trainsel = scaler.fit_transform(trainx)\n",
    "df_test = scaler.transform(testx)\n",
    "\n",
    "df_train = pd.DataFrame(scaled_data_trainsel, columns=trainx.columns)"
   ]
  },
  {
   "cell_type": "markdown",
   "metadata": {},
   "source": [
    "## Converting types"
   ]
  },
  {
   "cell_type": "code",
   "execution_count": 12,
   "metadata": {},
   "outputs": [],
   "source": [
    "for i in fulldf['type']:\n",
    "    i=float(i)\n",
    "relax=[]\n",
    "for i in fulldf['Relaxed']:\n",
    "    relax.append(float(i))"
   ]
  },
  {
   "cell_type": "markdown",
   "metadata": {},
   "source": [
    "## Looking at distributions of each effect before and after scaling"
   ]
  },
  {
   "cell_type": "code",
   "execution_count": 13,
   "metadata": {},
   "outputs": [
    {
     "data": {
      "image/png": "[encoded data removed]",
      "text/plain": [
       "<Figure size 432x432 with 1 Axes>"
      ]
     },
     "metadata": {
      "needs_background": "light"
     },
     "output_type": "display_data"
    },
    {
     "data": {
      "image/png": "[encoded data removed]",
      "text/plain": [
       "<Figure size 432x432 with 1 Axes>"
      ]
     },
     "metadata": {
      "needs_background": "light"
     },
     "output_type": "display_data"
    },
    {
     "data": {
      "image/png": "[encoded data removed]",
      "text/plain": [
       "<Figure size 432x432 with 1 Axes>"
      ]
     },
     "metadata": {
      "needs_background": "light"
     },
     "output_type": "display_data"
    },
    {
     "data": {
      "image/png": "[encoded data removed]",
      "text/plain": [
       "<Figure size 432x432 with 1 Axes>"
      ]
     },
     "metadata": {
      "needs_background": "light"
     },
     "output_type": "display_data"
    },
    {
     "data": {
      "image/png": "[encoded data removed]",
      "text/plain": [
       "<Figure size 432x432 with 1 Axes>"
      ]
     },
     "metadata": {
      "needs_background": "light"
     },
     "output_type": "display_data"
    },
    {
     "data": {
      "image/png": "[encoded data removed]",
      "text/plain": [
       "<Figure size 432x432 with 1 Axes>"
      ]
     },
     "metadata": {
      "needs_background": "light"
     },
     "output_type": "display_data"
    },
    {
     "data": {
      "image/png": "[encoded data removed]",
      "text/plain": [
       "<Figure size 432x432 with 1 Axes>"
      ]
     },
     "metadata": {
      "needs_background": "light"
     },
     "output_type": "display_data"
    },
    {
     "data": {
      "image/png": "[encoded data removed]",
      "text/plain": [
       "<Figure size 432x432 with 1 Axes>"
      ]
     },
     "metadata": {
      "needs_background": "light"
     },
     "output_type": "display_data"
    },
    {
     "data": {
      "image/png": "[encoded data removed]",
      "text/plain": [
       "<Figure size 432x432 with 1 Axes>"
      ]
     },
     "metadata": {
      "needs_background": "light"
     },
     "output_type": "display_data"
    },
    {
     "data": {
      "image/png": "[encoded data removed]",
      "text/plain": [
       "<Figure size 432x432 with 1 Axes>"
      ]
     },
     "metadata": {
      "needs_background": "light"
     },
     "output_type": "display_data"
    },
    {
     "data": {
      "image/png": "[encoded data removed]",
      "text/plain": [
       "<Figure size 432x432 with 1 Axes>"
      ]
     },
     "metadata": {
      "needs_background": "light"
     },
     "output_type": "display_data"
    },
    {
     "data": {
      "image/png": "[encoded data removed]",
      "text/plain": [
       "<Figure size 432x432 with 1 Axes>"
      ]
     },
     "metadata": {
      "needs_background": "light"
     },
     "output_type": "display_data"
    },
    {
     "data": {
      "image/png": "[encoded data removed]",
      "text/plain": [
       "<Figure size 432x432 with 1 Axes>"
      ]
     },
     "metadata": {
      "needs_background": "light"
     },
     "output_type": "display_data"
    },
    {
     "data": {
      "image/png": "[encoded data removed]",
      "text/plain": [
       "<Figure size 432x432 with 1 Axes>"
      ]
     },
     "metadata": {
      "needs_background": "light"
     },
     "output_type": "display_data"
    },
    {
     "data": {
      "image/png": "[encoded data removed]",
      "text/plain": [
       "<Figure size 432x432 with 1 Axes>"
      ]
     },
     "metadata": {
      "needs_background": "light"
     },
     "output_type": "display_data"
    },
    {
     "data": {
      "image/png": "[encoded data removed]",
      "text/plain": [
       "<Figure size 432x432 with 1 Axes>"
      ]
     },
     "metadata": {
      "needs_background": "light"
     },
     "output_type": "display_data"
    },
    {
     "data": {
      "image/png": "[encoded data removed]",
      "text/plain": [
       "<Figure size 432x432 with 1 Axes>"
      ]
     },
     "metadata": {
      "needs_background": "light"
     },
     "output_type": "display_data"
    },
    {
     "data": {
      "image/png": "[encoded data removed]",
      "text/plain": [
       "<Figure size 432x432 with 1 Axes>"
      ]
     },
     "metadata": {
      "needs_background": "light"
     },
     "output_type": "display_data"
    },
    {
     "data": {
      "image/png": "[encoded data removed]",
      "text/plain": [
       "<Figure size 432x432 with 1 Axes>"
      ]
     },
     "metadata": {
      "needs_background": "light"
     },
     "output_type": "display_data"
    },
    {
     "data": {
      "image/png": "[encoded data removed]",
      "text/plain": [
       "<Figure size 432x432 with 1 Axes>"
      ]
     },
     "metadata": {
      "needs_background": "light"
     },
     "output_type": "display_data"
    },
    {
     "data": {
      "image/png": "[encoded data removed]",
      "text/plain": [
       "<Figure size 432x432 with 1 Axes>"
      ]
     },
     "metadata": {
      "needs_background": "light"
     },
     "output_type": "display_data"
    },
    {
     "data": {
      "image/png": "[encoded data removed]",
      "text/plain": [
       "<Figure size 432x432 with 1 Axes>"
      ]
     },
     "metadata": {
      "needs_background": "light"
     },
     "output_type": "display_data"
    },
    {
     "data": {
      "image/png": "[encoded data removed]",
      "text/plain": [
       "<Figure size 432x432 with 1 Axes>"
      ]
     },
     "metadata": {
      "needs_background": "light"
     },
     "output_type": "display_data"
    },
    {
     "data": {
      "image/png": "[encoded data removed]",
      "text/plain": [
       "<Figure size 432x432 with 1 Axes>"
      ]
     },
     "metadata": {
      "needs_background": "light"
     },
     "output_type": "display_data"
    },
    {
     "data": {
      "image/png": "[encoded data removed]",
      "text/plain": [
       "<Figure size 432x432 with 1 Axes>"
      ]
     },
     "metadata": {
      "needs_background": "light"
     },
     "output_type": "display_data"
    },
    {
     "data": {
      "image/png": "[encoded data removed]",
      "text/plain": [
       "<Figure size 432x432 with 1 Axes>"
      ]
     },
     "metadata": {
      "needs_background": "light"
     },
     "output_type": "display_data"
    },
    {
     "data": {
      "image/png": "[encoded data removed]",
      "text/plain": [
       "<Figure size 432x432 with 1 Axes>"
      ]
     },
     "metadata": {
      "needs_background": "light"
     },
     "output_type": "display_data"
    },
    {
     "data": {
      "image/png": "[encoded data removed]",
      "text/plain": [
       "<Figure size 432x432 with 1 Axes>"
      ]
     },
     "metadata": {
      "needs_background": "light"
     },
     "output_type": "display_data"
    },
    {
     "data": {
      "image/png": "[encoded data removed]",
      "text/plain": [
       "<Figure size 432x432 with 1 Axes>"
      ]
     },
     "metadata": {
      "needs_background": "light"
     },
     "output_type": "display_data"
    },
    {
     "data": {
      "image/png": "[encoded data removed]",
      "text/plain": [
       "<Figure size 432x432 with 1 Axes>"
      ]
     },
     "metadata": {
      "needs_background": "light"
     },
     "output_type": "display_data"
    },
    {
     "data": {
      "image/png": "[encoded data removed]",
      "text/plain": [
       "<Figure size 432x432 with 1 Axes>"
      ]
     },
     "metadata": {
      "needs_background": "light"
     },
     "output_type": "display_data"
    },
    {
     "data": {
      "image/png": "[encoded data removed]",
      "text/plain": [
       "<Figure size 432x432 with 1 Axes>"
      ]
     },
     "metadata": {
      "needs_background": "light"
     },
     "output_type": "display_data"
    },
    {
     "data": {
      "image/png": "[encoded data removed]",
      "text/plain": [
       "<Figure size 432x432 with 1 Axes>"
      ]
     },
     "metadata": {
      "needs_background": "light"
     },
     "output_type": "display_data"
    },
    {
     "data": {
      "image/png": "[encoded data removed]",
      "text/plain": [
       "<Figure size 432x432 with 1 Axes>"
      ]
     },
     "metadata": {
      "needs_background": "light"
     },
     "output_type": "display_data"
    },
    {
     "data": {
      "image/png": "[encoded data removed]",
      "text/plain": [
       "<Figure size 432x432 with 1 Axes>"
      ]
     },
     "metadata": {
      "needs_background": "light"
     },
     "output_type": "display_data"
    },
    {
     "data": {
      "image/png": "[encoded data removed]",
      "text/plain": [
       "<Figure size 432x432 with 1 Axes>"
      ]
     },
     "metadata": {
      "needs_background": "light"
     },
     "output_type": "display_data"
    },
    {
     "data": {
      "image/png": "[encoded data removed]",
      "text/plain": [
       "<Figure size 432x432 with 1 Axes>"
      ]
     },
     "metadata": {
      "needs_background": "light"
     },
     "output_type": "display_data"
    }
   ],
   "source": [
    "effects=fulldf.drop(columns=['name','type']).columns\n",
    "for e in effects:\n",
    "    plt.figure(figsize=(6,6))\n",
    "    sns.distplot(X_train[e])\n",
    "    sns.distplot(scaled_df_train[e])"
   ]
  },
  {
   "cell_type": "markdown",
   "metadata": {},
   "source": [
    "# Beginning Modeling"
   ]
  },
  {
   "cell_type": "markdown",
   "metadata": {},
   "source": [
    "## Baseline Model: Most probable to be hybrid, so predict all as hybrid"
   ]
  },
  {
   "cell_type": "code",
   "execution_count": 14,
   "metadata": {
    "scrolled": false
   },
   "outputs": [
    {
     "name": "stdout",
     "output_type": "stream",
     "text": [
      "Baseline Model Metrics:\n",
      "Precision Score: [0.272      0.11607143 0.4953271 ]\n",
      "Recall Score: [0.37362637 0.24074074 0.26633166]\n",
      "Accuracy Score: 0.29069767441860467\n",
      "F1 Score: [0.31481481 0.15662651 0.34640523]\n"
     ]
    }
   ],
   "source": [
    "dummy = DummyClassifier(strategy='uniform', random_state=1)\n",
    "\n",
    "dummy.fit(scaled_data_train, y_train)\n",
    "basepreds=dummy.predict(scaled_data_test)\n",
    "sc=dummy.score(scaled_data_test, y_test) \n",
    "print(\"Baseline Model Metrics:\")\n",
    "print_metrics(y_test,basepreds)"
   ]
  },
  {
   "cell_type": "markdown",
   "metadata": {},
   "source": [
    "## Logistic Regression Model"
   ]
  },
  {
   "cell_type": "code",
   "execution_count": 15,
   "metadata": {
    "scrolled": true
   },
   "outputs": [
    {
     "data": {
      "text/plain": [
       "LogisticRegression(C=1.0, class_weight=None, dual=False, fit_intercept=True,\n",
       "          intercept_scaling=1, max_iter=100, multi_class='multinomial',\n",
       "          n_jobs=None, penalty='l2', random_state=0, solver='lbfgs',\n",
       "          tol=0.0001, verbose=0, warm_start=False)"
      ]
     },
     "execution_count": 15,
     "metadata": {},
     "output_type": "execute_result"
    }
   ],
   "source": [
    "logreg = LogisticRegression(random_state=0, solver='lbfgs', multi_class='multinomial') #Starter code\n",
    "# Your code here\n",
    "model_log = logreg.fit(scaled_data_train, y_train)\n",
    "model_log"
   ]
  },
  {
   "cell_type": "code",
   "execution_count": 103,
   "metadata": {},
   "outputs": [
    {
     "name": "stdout",
     "output_type": "stream",
     "text": [
      " 0    675\n",
      "-1    114\n",
      "-2     90\n",
      " 2     83\n",
      " 1     68\n",
      "Name: type, dtype: int64\n",
      " 0    0.655340\n",
      "-1    0.110680\n",
      "-2    0.087379\n",
      " 2    0.080583\n",
      " 1    0.066019\n",
      "Name: type, dtype: float64\n"
     ]
    }
   ],
   "source": [
    "y_hat_test = logreg.predict(scaled_data_test)\n",
    "y_hat_train = logreg.predict(scaled_data_train)\n",
    "residuals = y_train - y_hat_train\n",
    "print(pd.Series(residuals).value_counts())\n",
    "print(pd.Series(residuals).value_counts(normalize=True))"
   ]
  },
  {
   "cell_type": "code",
   "execution_count": 17,
   "metadata": {
    "scrolled": true
   },
   "outputs": [],
   "source": [
    "mat=confusion_matrix(y_hat_test,y_test)"
   ]
  },
  {
   "cell_type": "code",
   "execution_count": 18,
   "metadata": {},
   "outputs": [],
   "source": [
    "ps=[]\n",
    "i=0.0\n",
    "for x in range(0,10):\n",
    "    i+=0.1\n",
    "    ps.append(i)"
   ]
  },
  {
   "cell_type": "code",
   "execution_count": 19,
   "metadata": {
    "scrolled": true
   },
   "outputs": [
    {
     "data": {
      "text/plain": [
       "[0.1,\n",
       " 0.2,\n",
       " 0.30000000000000004,\n",
       " 0.4,\n",
       " 0.5,\n",
       " 0.6,\n",
       " 0.7,\n",
       " 0.7999999999999999,\n",
       " 0.8999999999999999,\n",
       " 0.9999999999999999]"
      ]
     },
     "execution_count": 19,
     "metadata": {},
     "output_type": "execute_result"
    }
   ],
   "source": [
    "ps"
   ]
  },
  {
   "cell_type": "code",
   "execution_count": 20,
   "metadata": {},
   "outputs": [],
   "source": [
    "logittpr,logitfpr=[],[]\n",
    "for p in ps:\n",
    "    mat=confusion_matrix(y_hat_test,y_test)\n",
    "    logittpr.append(mat[0][0]+mat[1][1]+mat[2][2])"
   ]
  },
  {
   "cell_type": "markdown",
   "metadata": {},
   "source": [
    "## KNN Base Model"
   ]
  },
  {
   "cell_type": "code",
   "execution_count": 21,
   "metadata": {},
   "outputs": [
    {
     "name": "stdout",
     "output_type": "stream",
     "text": [
      "Precision Score: [0.49565217 0.4516129  0.67664671]\n",
      "Recall Score: [0.62637363 0.51851852 0.5678392 ]\n",
      "Accuracy Score: 0.5755813953488372\n",
      "F1 Score: [0.55339806 0.48275862 0.61748634]\n",
      "              precision    recall  f1-score   support\n",
      "\n",
      "      indica       0.50      0.63      0.55        91\n",
      "      satica       0.45      0.52      0.48        54\n",
      "      hybrid       0.68      0.57      0.62       199\n",
      "\n",
      "   micro avg       0.58      0.58      0.58       344\n",
      "   macro avg       0.54      0.57      0.55       344\n",
      "weighted avg       0.59      0.58      0.58       344\n",
      "\n"
     ]
    }
   ],
   "source": [
    "clf1 = KNeighborsClassifier()\n",
    "clf1.fit(scaled_data_train, y_train)\n",
    "test_preds = clf1.predict(scaled_data_test)\n",
    "print_metrics(y_test, test_preds)\n",
    "print(classification_report(y_test,test_preds,target_names=['indica','satica','hybrid']))"
   ]
  },
  {
   "cell_type": "markdown",
   "metadata": {},
   "source": [
    "### With Selected Features:"
   ]
  },
  {
   "cell_type": "code",
   "execution_count": 22,
   "metadata": {
    "scrolled": true
   },
   "outputs": [
    {
     "name": "stdout",
     "output_type": "stream",
     "text": [
      "Precision Score: [0.57142857 0.41791045 0.68156425]\n",
      "Recall Score: [0.61538462 0.51851852 0.61306533]\n",
      "Accuracy Score: 0.5988372093023255\n",
      "F1 Score: [0.59259259 0.46280992 0.64550265]\n",
      "              precision    recall  f1-score   support\n",
      "\n",
      "      indica       0.57      0.62      0.59        91\n",
      "      satica       0.42      0.52      0.46        54\n",
      "      hybrid       0.68      0.61      0.65       199\n",
      "\n",
      "   micro avg       0.60      0.60      0.60       344\n",
      "   macro avg       0.56      0.58      0.57       344\n",
      "weighted avg       0.61      0.60      0.60       344\n",
      "\n"
     ]
    },
    {
     "data": {
      "text/plain": [
       "array([[ 56,   2,  40],\n",
       "       [  2,  28,  37],\n",
       "       [ 33,  24, 122]])"
      ]
     },
     "execution_count": 22,
     "metadata": {},
     "output_type": "execute_result"
    }
   ],
   "source": [
    "clf1 = KNeighborsClassifier()\n",
    "clf1.fit(df_train, y_train)\n",
    "test_preds = clf1.predict(df_test)\n",
    "print_metrics(y_test, test_preds)\n",
    "print(classification_report(y_test,test_preds,target_names=['indica','satica','hybrid']))\n",
    "confusion_matrix(test_preds,y_test)"
   ]
  },
  {
   "cell_type": "markdown",
   "metadata": {},
   "source": [
    "### With PCA"
   ]
  },
  {
   "cell_type": "code",
   "execution_count": 135,
   "metadata": {},
   "outputs": [
    {
     "name": "stdout",
     "output_type": "stream",
     "text": [
      "Precision Score: [0.3559322  0.20833333 0.62359551]\n",
      "Recall Score: [0.46153846 0.18518519 0.55778894]\n",
      "Accuracy Score: 0.4738372093023256\n",
      "F1 Score: [0.40191388 0.19607843 0.58885942]\n",
      "              precision    recall  f1-score   support\n",
      "\n",
      "      indica       0.36      0.46      0.40        91\n",
      "      satica       0.21      0.19      0.20        54\n",
      "      hybrid       0.62      0.56      0.59       199\n",
      "\n",
      "   micro avg       0.47      0.47      0.47       344\n",
      "   macro avg       0.40      0.40      0.40       344\n",
      "weighted avg       0.49      0.47      0.48       344\n",
      "\n"
     ]
    },
    {
     "data": {
      "text/plain": [
       "array([[ 42,  17,  59],\n",
       "       [  9,  10,  29],\n",
       "       [ 40,  27, 111]])"
      ]
     },
     "execution_count": 135,
     "metadata": {},
     "output_type": "execute_result"
    }
   ],
   "source": [
    "clf1 = KNeighborsClassifier()\n",
    "clf1.fit(Xptrain, yptrain)\n",
    "test_preds = clf1.predict(Xptest)\n",
    "print_metrics(yptest, test_preds)\n",
    "print(classification_report(yptest,test_preds,target_names=['indica','satica','hybrid']))\n",
    "confusion_matrix(test_preds,yptest)"
   ]
  },
  {
   "cell_type": "markdown",
   "metadata": {},
   "source": [
    "## Getting best KNN model"
   ]
  },
  {
   "cell_type": "code",
   "execution_count": 23,
   "metadata": {},
   "outputs": [
    {
     "name": "stdout",
     "output_type": "stream",
     "text": [
      "Best Value for k: 19\n",
      "Accuracy: 0.6686046511627907\n"
     ]
    }
   ],
   "source": [
    "find_best_k(scaled_data_train, y_train, scaled_data_test, y_test)"
   ]
  },
  {
   "cell_type": "code",
   "execution_count": 24,
   "metadata": {},
   "outputs": [
    {
     "name": "stdout",
     "output_type": "stream",
     "text": [
      "Precision Score: [0.60869565 0.66666667 0.69406393]\n",
      "Recall Score: [0.61538462 0.40740741 0.7638191 ]\n",
      "Accuracy Score: 0.6686046511627907\n",
      "F1 Score: [0.61202186 0.50574713 0.72727273]\n",
      "              precision    recall  f1-score   support\n",
      "\n",
      "      indica       0.61      0.62      0.61        91\n",
      "      satica       0.67      0.41      0.51        54\n",
      "      hybrid       0.69      0.76      0.73       199\n",
      "\n",
      "   micro avg       0.67      0.67      0.67       344\n",
      "   macro avg       0.66      0.60      0.62       344\n",
      "weighted avg       0.67      0.67      0.66       344\n",
      "\n"
     ]
    }
   ],
   "source": [
    "clf1 = KNeighborsClassifier(n_neighbors=19)\n",
    "clf1.fit(scaled_data_train, y_train)\n",
    "test_preds = clf1.predict(scaled_data_test)\n",
    "print_metrics(y_test, test_preds)\n",
    "print(classification_report(y_test,test_preds,target_names=['indica','satica','hybrid']))"
   ]
  },
  {
   "cell_type": "markdown",
   "metadata": {},
   "source": [
    "### With Selected Features:"
   ]
  },
  {
   "cell_type": "code",
   "execution_count": 25,
   "metadata": {},
   "outputs": [
    {
     "name": "stdout",
     "output_type": "stream",
     "text": [
      "Best Value for k: 17\n",
      "Accuracy: 0.6627906976744186\n"
     ]
    }
   ],
   "source": [
    "find_best_k(df_train, y_train, df_test, y_test)"
   ]
  },
  {
   "cell_type": "code",
   "execution_count": 26,
   "metadata": {
    "scrolled": true
   },
   "outputs": [
    {
     "name": "stdout",
     "output_type": "stream",
     "text": [
      "Precision Score: [0.61956522 0.53030303 0.7311828 ]\n",
      "Recall Score: [0.62637363 0.64814815 0.68341709]\n",
      "Accuracy Score: 0.6627906976744186\n",
      "F1 Score: [0.62295082 0.58333333 0.70649351]\n",
      "Mean Cross Validation Score: 60.97%\n",
      "              precision    recall  f1-score   support\n",
      "\n",
      "      indica       0.62      0.63      0.62        91\n",
      "      satica       0.53      0.65      0.58        54\n",
      "      hybrid       0.73      0.68      0.71       199\n",
      "\n",
      "   micro avg       0.66      0.66      0.66       344\n",
      "   macro avg       0.63      0.65      0.64       344\n",
      "weighted avg       0.67      0.66      0.67       344\n",
      "\n"
     ]
    }
   ],
   "source": [
    "clf1 = KNeighborsClassifier(n_neighbors=17)\n",
    "clf1.fit(df_train, y_train)\n",
    "test_preds = clf1.predict(df_test)\n",
    "print_metrics(y_test, test_preds)\n",
    "dt_cv_score=cross_val_score(clf1, df_train, y_train)\n",
    "meandtcv=dt_cv_score.mean()\n",
    "print(\"Mean Cross Validation Score: {:.4}%\".format(meandtcv * 100))\n",
    "print(classification_report(y_test,test_preds,target_names=['indica','satica','hybrid']))"
   ]
  },
  {
   "cell_type": "markdown",
   "metadata": {},
   "source": [
    "### With PCA"
   ]
  },
  {
   "cell_type": "code",
   "execution_count": 136,
   "metadata": {
    "scrolled": true
   },
   "outputs": [
    {
     "name": "stdout",
     "output_type": "stream",
     "text": [
      "Best Value for k: 19\n",
      "Accuracy: 0.5319767441860465\n"
     ]
    }
   ],
   "source": [
    "find_best_k(Xptrain, yptrain, Xptest, yptest)"
   ]
  },
  {
   "cell_type": "code",
   "execution_count": 137,
   "metadata": {},
   "outputs": [
    {
     "name": "stdout",
     "output_type": "stream",
     "text": [
      "Precision Score: [0.28571429 0.25       0.57931034]\n",
      "Recall Score: [0.13186813 0.05555556 0.84422111]\n",
      "Accuracy Score: 0.5319767441860465\n",
      "F1 Score: [0.18045113 0.09090909 0.68711656]\n",
      "Mean Cross Validation Score: 45.82%\n",
      "              precision    recall  f1-score   support\n",
      "\n",
      "      indica       0.29      0.13      0.18        91\n",
      "      satica       0.25      0.06      0.09        54\n",
      "      hybrid       0.58      0.84      0.69       199\n",
      "\n",
      "   micro avg       0.53      0.53      0.53       344\n",
      "   macro avg       0.37      0.34      0.32       344\n",
      "weighted avg       0.45      0.53      0.46       344\n",
      "\n"
     ]
    }
   ],
   "source": [
    "clf1 = KNeighborsClassifier(n_neighbors=19)\n",
    "clf1.fit(Xptrain, yptrain)\n",
    "test_preds = clf1.predict(Xptest)\n",
    "print_metrics(yptest, test_preds)\n",
    "dt_cv_score=cross_val_score(clf1, Xptrain, yptrain)\n",
    "meandtcv=dt_cv_score.mean()\n",
    "print(\"Mean Cross Validation Score: {:.4}%\".format(meandtcv * 100))\n",
    "print(classification_report(yptest,test_preds,target_names=['indica','satica','hybrid']))"
   ]
  },
  {
   "cell_type": "code",
   "execution_count": 138,
   "metadata": {},
   "outputs": [],
   "source": [
    "model=KNeighborsClassifier()"
   ]
  },
  {
   "cell_type": "markdown",
   "metadata": {},
   "source": [
    "### Grid Search with KNN: All Features"
   ]
  },
  {
   "cell_type": "code",
   "execution_count": 139,
   "metadata": {},
   "outputs": [
    {
     "name": "stdout",
     "output_type": "stream",
     "text": [
      "Mean Cross Validation Score: 55.54%\n",
      "Mean Training Score: 83.82%\n",
      "Mean Testing Score: 65.99%\n",
      "Best Parameter Combination Found During Grid Search:\n"
     ]
    },
    {
     "data": {
      "text/plain": [
       "{'n_neighbors': 26, 'weights': 'uniform'}"
      ]
     },
     "execution_count": 139,
     "metadata": {},
     "output_type": "execute_result"
    }
   ],
   "source": [
    "dt_cv_score=cross_val_score(model, scaled_data_train, y_train)\n",
    "meandtcv=dt_cv_score.mean()\n",
    "print(\"Mean Cross Validation Score: {:.4}%\".format(meandtcv * 100))\n",
    "\n",
    "dt_param_grid = {\n",
    "    'n_neighbors':list(range(1,31)),\n",
    "    'weights':['uniform','distance']\n",
    "}\n",
    "\n",
    "dt_grid_search = GridSearchCV(model, dt_param_grid, cv=10, return_train_score=True)\n",
    "dt_grid_search.fit(scaled_data_train, y_train)\n",
    "\n",
    "dt_gs_training_score = np.mean(dt_grid_search.cv_results_['mean_train_score'])\n",
    "dt_gs_testing_score = dt_grid_search.score(scaled_data_test, y_test)\n",
    "\n",
    "print(\"Mean Training Score: {:.4}%\".format(dt_gs_training_score * 100))\n",
    "print(\"Mean Testing Score: {:.4}%\".format(dt_gs_testing_score * 100))\n",
    "print(\"Best Parameter Combination Found During Grid Search:\")\n",
    "dt_grid_search.best_params_\n"
   ]
  },
  {
   "cell_type": "code",
   "execution_count": 140,
   "metadata": {
    "scrolled": true
   },
   "outputs": [
    {
     "name": "stdout",
     "output_type": "stream",
     "text": [
      "Precision Score: [0.6        0.61538462 0.6952381 ]\n",
      "Recall Score: [0.62637363 0.44444444 0.73366834]\n",
      "Accuracy Score: 0.6598837209302325\n",
      "F1 Score: [0.61290323 0.51612903 0.71393643]\n",
      "Mean Cross Validation Score: 61.36%\n",
      "              precision    recall  f1-score   support\n",
      "\n",
      "      indica       0.60      0.63      0.61        91\n",
      "      satica       0.62      0.44      0.52        54\n",
      "      hybrid       0.70      0.73      0.71       199\n",
      "\n",
      "   micro avg       0.66      0.66      0.66       344\n",
      "   macro avg       0.64      0.60      0.61       344\n",
      "weighted avg       0.66      0.66      0.66       344\n",
      "\n"
     ]
    }
   ],
   "source": [
    "clf1 = KNeighborsClassifier(n_neighbors=26, weights='uniform')\n",
    "clf1.fit(scaled_data_train, y_train)\n",
    "test_preds = clf1.predict(scaled_data_test)\n",
    "print_metrics(y_test, test_preds)\n",
    "dt_cv_score=cross_val_score(clf1, scaled_data_train, y_train)\n",
    "meandtcv=dt_cv_score.mean()\n",
    "print(\"Mean Cross Validation Score: {:.4}%\".format(meandtcv * 100))\n",
    "print(classification_report(y_test,test_preds,target_names=['indica','satica','hybrid']))"
   ]
  },
  {
   "cell_type": "markdown",
   "metadata": {},
   "source": [
    "#### KNN Grid Search Selected Features"
   ]
  },
  {
   "cell_type": "code",
   "execution_count": 141,
   "metadata": {},
   "outputs": [
    {
     "name": "stdout",
     "output_type": "stream",
     "text": [
      "Mean Cross Validation Score: 55.83%\n",
      "Mean Training Score: 82.72%\n",
      "Mean Testing Score: 66.28%\n",
      "Best Parameter Combination Found During Grid Search:\n"
     ]
    },
    {
     "data": {
      "text/plain": [
       "{'n_neighbors': 26, 'weights': 'uniform'}"
      ]
     },
     "execution_count": 141,
     "metadata": {},
     "output_type": "execute_result"
    }
   ],
   "source": [
    "dt_cv_score=cross_val_score(model, df_train, y_train)\n",
    "meandtcv=dt_cv_score.mean()\n",
    "print(\"Mean Cross Validation Score: {:.4}%\".format(meandtcv * 100))\n",
    "\n",
    "dt_param_grid = {\n",
    "    'n_neighbors':list(range(1,31)),\n",
    "    'weights':['uniform','distance']\n",
    "}\n",
    "\n",
    "dt_grid_search = GridSearchCV(model, dt_param_grid, cv=10, return_train_score=True)\n",
    "dt_grid_search.fit(df_train, y_train)\n",
    "\n",
    "dt_gs_training_score = np.mean(dt_grid_search.cv_results_['mean_train_score'])\n",
    "dt_gs_testing_score = dt_grid_search.score(df_test, y_test)\n",
    "\n",
    "print(\"Mean Training Score: {:.4}%\".format(dt_gs_training_score * 100))\n",
    "print(\"Mean Testing Score: {:.4}%\".format(dt_gs_testing_score * 100))\n",
    "print(\"Best Parameter Combination Found During Grid Search:\")\n",
    "dt_grid_search.best_params_"
   ]
  },
  {
   "cell_type": "code",
   "execution_count": 142,
   "metadata": {},
   "outputs": [
    {
     "name": "stdout",
     "output_type": "stream",
     "text": [
      "Precision Score: [0.63218391 0.52941176 0.70873786]\n",
      "Recall Score: [0.6043956  0.5        0.73366834]\n",
      "Accuracy Score: 0.6627906976744186\n",
      "F1 Score: [0.61797753 0.51428571 0.72098765]\n",
      "Mean Cross Validation Score: 62.53%\n",
      "              precision    recall  f1-score   support\n",
      "\n",
      "      indica       0.63      0.60      0.62        91\n",
      "      satica       0.53      0.50      0.51        54\n",
      "      hybrid       0.71      0.73      0.72       199\n",
      "\n",
      "   micro avg       0.66      0.66      0.66       344\n",
      "   macro avg       0.62      0.61      0.62       344\n",
      "weighted avg       0.66      0.66      0.66       344\n",
      "\n"
     ]
    }
   ],
   "source": [
    "clf1 = KNeighborsClassifier(n_neighbors=26)\n",
    "clf1.fit(df_train, y_train)\n",
    "test_preds = clf1.predict(df_test)\n",
    "print_metrics(y_test, test_preds)\n",
    "dt_cv_score=cross_val_score(clf1, df_train, y_train)\n",
    "meandtcv=dt_cv_score.mean()\n",
    "print(\"Mean Cross Validation Score: {:.4}%\".format(meandtcv * 100))\n",
    "print(classification_report(y_test,test_preds,target_names=['indica','satica','hybrid']))"
   ]
  },
  {
   "cell_type": "markdown",
   "metadata": {},
   "source": [
    "### KNN Grid Search PCA"
   ]
  },
  {
   "cell_type": "code",
   "execution_count": 143,
   "metadata": {},
   "outputs": [
    {
     "name": "stdout",
     "output_type": "stream",
     "text": [
      "Mean Cross Validation Score: 44.18%\n",
      "Mean Training Score: 78.8%\n",
      "Mean Testing Score: 50.87%\n",
      "Best Parameter Combination Found During Grid Search:\n"
     ]
    },
    {
     "data": {
      "text/plain": [
       "{'n_neighbors': 10, 'weights': 'uniform'}"
      ]
     },
     "execution_count": 143,
     "metadata": {},
     "output_type": "execute_result"
    }
   ],
   "source": [
    "dt_cv_score=cross_val_score(model, Xptrain, yptrain)\n",
    "meandtcv=dt_cv_score.mean()\n",
    "print(\"Mean Cross Validation Score: {:.4}%\".format(meandtcv * 100))\n",
    "\n",
    "dt_param_grid = {\n",
    "    'n_neighbors':list(range(1,31)),\n",
    "    'weights':['uniform','distance']\n",
    "}\n",
    "\n",
    "dt_grid_search = GridSearchCV(model, dt_param_grid, cv=10, return_train_score=True)\n",
    "dt_grid_search.fit(Xptrain, yptrain)\n",
    "\n",
    "dt_gs_training_score = np.mean(dt_grid_search.cv_results_['mean_train_score'])\n",
    "dt_gs_testing_score = dt_grid_search.score(Xptest, yptest)\n",
    "\n",
    "print(\"Mean Training Score: {:.4}%\".format(dt_gs_training_score * 100))\n",
    "print(\"Mean Testing Score: {:.4}%\".format(dt_gs_testing_score * 100))\n",
    "print(\"Best Parameter Combination Found During Grid Search:\")\n",
    "dt_grid_search.best_params_"
   ]
  },
  {
   "cell_type": "code",
   "execution_count": 145,
   "metadata": {},
   "outputs": [
    {
     "name": "stdout",
     "output_type": "stream",
     "text": [
      "Precision Score: [0.3875     0.16666667 0.60526316]\n",
      "Recall Score: [0.34065934 0.11111111 0.69346734]\n",
      "Accuracy Score: 0.5087209302325582\n",
      "F1 Score: [0.3625731  0.13333333 0.64637002]\n",
      "Mean Cross Validation Score: 45.44%\n",
      "              precision    recall  f1-score   support\n",
      "\n",
      "      indica       0.39      0.34      0.36        91\n",
      "      satica       0.17      0.11      0.13        54\n",
      "      hybrid       0.61      0.69      0.65       199\n",
      "\n",
      "   micro avg       0.51      0.51      0.51       344\n",
      "   macro avg       0.39      0.38      0.38       344\n",
      "weighted avg       0.48      0.51      0.49       344\n",
      "\n"
     ]
    }
   ],
   "source": [
    "clf1 = KNeighborsClassifier(n_neighbors=10)\n",
    "clf1.fit(Xptrain, yptrain)\n",
    "test_preds = clf1.predict(Xptest)\n",
    "print_metrics(yptest, test_preds)\n",
    "dt_cv_score=cross_val_score(clf1, Xptrain, yptrain)\n",
    "meandtcv=dt_cv_score.mean()\n",
    "print(\"Mean Cross Validation Score: {:.4}%\".format(meandtcv * 100))\n",
    "print(classification_report(yptest,test_preds,target_names=['indica','satica','hybrid']))"
   ]
  },
  {
   "cell_type": "markdown",
   "metadata": {},
   "source": [
    "## Decision Tree"
   ]
  },
  {
   "cell_type": "markdown",
   "metadata": {},
   "source": [
    "### Baseline Decision Tree"
   ]
  },
  {
   "cell_type": "code",
   "execution_count": 146,
   "metadata": {},
   "outputs": [],
   "source": [
    "# !pip install dtreeplt"
   ]
  },
  {
   "cell_type": "code",
   "execution_count": 147,
   "metadata": {},
   "outputs": [],
   "source": [
    "classifier1 = DecisionTreeClassifier()  \n",
    "classifier1.fit(scaled_data_train, y_train) \n",
    "y_pred = classifier1.predict(scaled_data_test)"
   ]
  },
  {
   "cell_type": "code",
   "execution_count": 148,
   "metadata": {},
   "outputs": [],
   "source": [
    "# tree.export_graphviz(classifier1) \n",
    "# from dtreeplt import dtreeplt\n",
    "# plt.figure(figsize=(20,20))\n",
    "# dtree = dtreeplt(\n",
    "#     model=classifier1,\n",
    "#     feature_names=features.columns,\n",
    "#     target_names=fulldf['type']\n",
    "# )\n",
    "# fig = dtree.view()\n",
    "# fig.savefig('DT1.png')"
   ]
  },
  {
   "cell_type": "code",
   "execution_count": 149,
   "metadata": {
    "scrolled": false
   },
   "outputs": [
    {
     "name": "stdout",
     "output_type": "stream",
     "text": [
      "Accuracy:  0.5319767441860465\n",
      "Micro-averaged precision score: 0.53\n",
      "Macro-averaged precision score: 0.56\n",
      "Per-class precision score: [0.59340659 0.61111111 0.48241206]\n",
      "Precision Score: [0.5        0.37078652 0.65306122]\n",
      "Recall Score: [0.59340659 0.61111111 0.48241206]\n",
      "Accuracy Score: 0.5319767441860465\n",
      "F1 Score: [0.54271357 0.46153846 0.55491329]\n",
      "              precision    recall  f1-score   support\n",
      "\n",
      "      indica       0.50      0.59      0.54        91\n",
      "      satica       0.37      0.61      0.46        54\n",
      "      hybrid       0.65      0.48      0.55       199\n",
      "\n",
      "   micro avg       0.53      0.53      0.53       344\n",
      "   macro avg       0.51      0.56      0.52       344\n",
      "weighted avg       0.57      0.53      0.54       344\n",
      "\n"
     ]
    }
   ],
   "source": [
    "y_score = classifier1.score(scaled_data_test, y_test)\n",
    "print('Accuracy: ', y_score)\n",
    "\n",
    "# Compute the average precision score\n",
    "micro_precision = precision_score(y_pred, y_test, average='micro')\n",
    "print('Micro-averaged precision score: {0:0.2f}'.format(\n",
    "      micro_precision))\n",
    "\n",
    "macro_precision = precision_score(y_pred, y_test, average='macro')\n",
    "print('Macro-averaged precision score: {0:0.2f}'.format(\n",
    "      macro_precision))\n",
    "\n",
    "per_class_precision = precision_score(y_pred, y_test, average=None)\n",
    "print('Per-class precision score:', per_class_precision)\n",
    "print_metrics(y_test,y_pred)\n",
    "print(classification_report(y_test,y_pred,target_names=['indica','satica','hybrid']))\n",
    "# roc(classifier1,scaled_data_train,scaled_data_test,y_train,y_test,n_classes)"
   ]
  },
  {
   "cell_type": "markdown",
   "metadata": {},
   "source": [
    "### With Selected Features:"
   ]
  },
  {
   "cell_type": "code",
   "execution_count": 150,
   "metadata": {},
   "outputs": [],
   "source": [
    "classifier1 = DecisionTreeClassifier()  \n",
    "classifier1.fit(df_train, y_train) \n",
    "y_pred = classifier1.predict(df_test)"
   ]
  },
  {
   "cell_type": "code",
   "execution_count": 151,
   "metadata": {
    "scrolled": true
   },
   "outputs": [
    {
     "name": "stdout",
     "output_type": "stream",
     "text": [
      "Accuracy:  0.5290697674418605\n",
      "Micro-averaged precision score: 0.53\n",
      "Macro-averaged precision score: 0.57\n",
      "Per-class precision score: [0.54945055 0.66666667 0.48241206]\n",
      "Precision Score: [0.51020408 0.375      0.64      ]\n",
      "Recall Score: [0.54945055 0.66666667 0.48241206]\n",
      "Accuracy Score: 0.5290697674418605\n",
      "F1 Score: [0.52910053 0.48       0.55014327]\n",
      "              precision    recall  f1-score   support\n",
      "\n",
      "      indica       0.51      0.55      0.53        91\n",
      "      satica       0.38      0.67      0.48        54\n",
      "      hybrid       0.64      0.48      0.55       199\n",
      "\n",
      "   micro avg       0.53      0.53      0.53       344\n",
      "   macro avg       0.51      0.57      0.52       344\n",
      "weighted avg       0.56      0.53      0.53       344\n",
      "\n"
     ]
    }
   ],
   "source": [
    "y_score = classifier1.score(df_test, y_test)\n",
    "print('Accuracy: ', y_score)\n",
    "\n",
    "# Compute the average precision score\n",
    "micro_precision = precision_score(y_pred, y_test, average='micro')\n",
    "print('Micro-averaged precision score: {0:0.2f}'.format(\n",
    "      micro_precision))\n",
    "\n",
    "macro_precision = precision_score(y_pred, y_test, average='macro')\n",
    "print('Macro-averaged precision score: {0:0.2f}'.format(\n",
    "      macro_precision))\n",
    "\n",
    "per_class_precision = precision_score(y_pred, y_test, average=None)\n",
    "print('Per-class precision score:', per_class_precision)\n",
    "print_metrics(y_test,y_pred)\n",
    "print(classification_report(y_test,y_pred,target_names=['indica','satica','hybrid']))\n",
    "# roc(classifier1,df_train,df_test,y_train,y_test,n_classes)"
   ]
  },
  {
   "cell_type": "markdown",
   "metadata": {},
   "source": [
    "### With PCA"
   ]
  },
  {
   "cell_type": "code",
   "execution_count": 152,
   "metadata": {},
   "outputs": [],
   "source": [
    "classifier1.fit(Xptrain, yptrain) \n",
    "y_pred = classifier1.predict(Xptest)"
   ]
  },
  {
   "cell_type": "code",
   "execution_count": 153,
   "metadata": {},
   "outputs": [
    {
     "name": "stdout",
     "output_type": "stream",
     "text": [
      "Accuracy:  0.48255813953488375\n",
      "Micro-averaged precision score: 0.48\n",
      "Macro-averaged precision score: 0.41\n",
      "Per-class precision score: [0.37362637 0.25925926 0.59296482]\n",
      "Precision Score: [0.3655914  0.19444444 0.65921788]\n",
      "Recall Score: [0.37362637 0.25925926 0.59296482]\n",
      "Accuracy Score: 0.48255813953488375\n",
      "F1 Score: [0.36956522 0.22222222 0.62433862]\n",
      "              precision    recall  f1-score   support\n",
      "\n",
      "      indica       0.37      0.37      0.37        91\n",
      "      satica       0.19      0.26      0.22        54\n",
      "      hybrid       0.66      0.59      0.62       199\n",
      "\n",
      "   micro avg       0.48      0.48      0.48       344\n",
      "   macro avg       0.41      0.41      0.41       344\n",
      "weighted avg       0.51      0.48      0.49       344\n",
      "\n"
     ]
    }
   ],
   "source": [
    "y_score = classifier1.score(Xptest, yptest)\n",
    "print('Accuracy: ', y_score)\n",
    "\n",
    "# Compute the average precision score\n",
    "micro_precision = precision_score(y_pred, yptest, average='micro')\n",
    "print('Micro-averaged precision score: {0:0.2f}'.format(\n",
    "      micro_precision))\n",
    "\n",
    "macro_precision = precision_score(y_pred, yptest, average='macro')\n",
    "print('Macro-averaged precision score: {0:0.2f}'.format(\n",
    "      macro_precision))\n",
    "\n",
    "per_class_precision = precision_score(y_pred, yptest, average=None)\n",
    "print('Per-class precision score:', per_class_precision)\n",
    "print_metrics(yptest,y_pred)\n",
    "print(classification_report(yptest,y_pred,target_names=['indica','satica','hybrid']))\n",
    "# roc(classifier1,df_train,df_test,y_train,y_test,n_classes)"
   ]
  },
  {
   "cell_type": "markdown",
   "metadata": {},
   "source": [
    "## Decision Tree with random state=10"
   ]
  },
  {
   "cell_type": "code",
   "execution_count": 154,
   "metadata": {},
   "outputs": [
    {
     "data": {
      "text/plain": [
       "DecisionTreeClassifier(class_weight=None, criterion='gini', max_depth=None,\n",
       "            max_features=None, max_leaf_nodes=None,\n",
       "            min_impurity_decrease=0.0, min_impurity_split=None,\n",
       "            min_samples_leaf=1, min_samples_split=2,\n",
       "            min_weight_fraction_leaf=0.0, presort=False, random_state=10,\n",
       "            splitter='best')"
      ]
     },
     "execution_count": 154,
     "metadata": {},
     "output_type": "execute_result"
    }
   ],
   "source": [
    "classifier2 = DecisionTreeClassifier(random_state=10)  \n",
    "classifier2.fit(scaled_data_train, y_train) "
   ]
  },
  {
   "cell_type": "code",
   "execution_count": 155,
   "metadata": {},
   "outputs": [],
   "source": [
    "y_pred = classifier2.predict(scaled_data_test)"
   ]
  },
  {
   "cell_type": "code",
   "execution_count": 156,
   "metadata": {
    "scrolled": true
   },
   "outputs": [
    {
     "name": "stdout",
     "output_type": "stream",
     "text": [
      "Accuracy:  0.5377906976744186\n",
      "Micro-averaged precision score: 0.54\n",
      "Macro-averaged precision score: 0.56\n",
      "Per-class precision score: [0.58241758 0.61111111 0.49748744]\n",
      "Precision Score: [0.47747748 0.40243902 0.65562914]\n",
      "Recall Score: [0.58241758 0.61111111 0.49748744]\n",
      "Accuracy Score: 0.5377906976744186\n",
      "F1 Score: [0.52475248 0.48529412 0.56571429]\n",
      "              precision    recall  f1-score   support\n",
      "\n",
      "      indica       0.48      0.58      0.52        91\n",
      "      satica       0.40      0.61      0.49        54\n",
      "      hybrid       0.66      0.50      0.57       199\n",
      "\n",
      "   micro avg       0.54      0.54      0.54       344\n",
      "   macro avg       0.51      0.56      0.53       344\n",
      "weighted avg       0.57      0.54      0.54       344\n",
      "\n"
     ]
    }
   ],
   "source": [
    "y_score = classifier2.score(scaled_data_test, y_test)\n",
    "print('Accuracy: ', y_score)\n",
    "\n",
    "micro_precision = precision_score(y_pred, y_test, average='micro')\n",
    "print('Micro-averaged precision score: {0:0.2f}'.format(\n",
    "      micro_precision))\n",
    "\n",
    "macro_precision = precision_score(y_pred, y_test, average='macro')\n",
    "print('Macro-averaged precision score: {0:0.2f}'.format(\n",
    "      macro_precision))\n",
    "\n",
    "per_class_precision = precision_score(y_pred, y_test, average=None)\n",
    "print('Per-class precision score:', per_class_precision)\n",
    "\n",
    "print_metrics(y_test,y_pred)\n",
    "print(classification_report(y_test,y_pred,target_names=['indica','satica','hybrid']))\n",
    "# roc(classifier2,scaled_data_train,scaled_data_test,y_train,y_test,n_classes)"
   ]
  },
  {
   "cell_type": "markdown",
   "metadata": {},
   "source": [
    "### With Selected Features:"
   ]
  },
  {
   "cell_type": "code",
   "execution_count": 157,
   "metadata": {},
   "outputs": [
    {
     "data": {
      "text/plain": [
       "DecisionTreeClassifier(class_weight=None, criterion='gini', max_depth=None,\n",
       "            max_features=None, max_leaf_nodes=None,\n",
       "            min_impurity_decrease=0.0, min_impurity_split=None,\n",
       "            min_samples_leaf=1, min_samples_split=2,\n",
       "            min_weight_fraction_leaf=0.0, presort=False, random_state=10,\n",
       "            splitter='best')"
      ]
     },
     "execution_count": 157,
     "metadata": {},
     "output_type": "execute_result"
    }
   ],
   "source": [
    "classifier2 = DecisionTreeClassifier(random_state=10)  \n",
    "classifier2.fit(df_train, y_train) "
   ]
  },
  {
   "cell_type": "code",
   "execution_count": 158,
   "metadata": {
    "scrolled": false
   },
   "outputs": [
    {
     "name": "stdout",
     "output_type": "stream",
     "text": [
      "Accuracy:  0.5436046511627907\n",
      "Micro-averaged precision score: 0.54\n",
      "Macro-averaged precision score: 0.57\n",
      "Per-class precision score: [0.53846154 0.66666667 0.51256281]\n",
      "Precision Score: [0.51578947 0.39130435 0.64968153]\n",
      "Recall Score: [0.53846154 0.66666667 0.51256281]\n",
      "Accuracy Score: 0.5436046511627907\n",
      "F1 Score: [0.52688172 0.49315068 0.57303371]\n",
      "              precision    recall  f1-score   support\n",
      "\n",
      "      indica       0.52      0.54      0.53        91\n",
      "      satica       0.39      0.67      0.49        54\n",
      "      hybrid       0.65      0.51      0.57       199\n",
      "\n",
      "   micro avg       0.54      0.54      0.54       344\n",
      "   macro avg       0.52      0.57      0.53       344\n",
      "weighted avg       0.57      0.54      0.55       344\n",
      "\n"
     ]
    }
   ],
   "source": [
    "y_pred = classifier2.predict(df_test)\n",
    "y_score = classifier2.score(df_test, y_test)\n",
    "print('Accuracy: ', y_score)\n",
    "\n",
    "micro_precision = precision_score(y_pred, y_test, average='micro')\n",
    "print('Micro-averaged precision score: {0:0.2f}'.format(\n",
    "      micro_precision))\n",
    "\n",
    "macro_precision = precision_score(y_pred, y_test, average='macro')\n",
    "print('Macro-averaged precision score: {0:0.2f}'.format(\n",
    "      macro_precision))\n",
    "\n",
    "per_class_precision = precision_score(y_pred, y_test, average=None)\n",
    "print('Per-class precision score:', per_class_precision)\n",
    "\n",
    "print_metrics(y_test,y_pred)\n",
    "print(classification_report(y_test,y_pred,target_names=['indica','satica','hybrid']))\n",
    "# roc(classifier2,df_train,df_test,y_train,y_test,n_classes)"
   ]
  },
  {
   "cell_type": "markdown",
   "metadata": {},
   "source": [
    "### With PCA"
   ]
  },
  {
   "cell_type": "code",
   "execution_count": 160,
   "metadata": {},
   "outputs": [
    {
     "name": "stdout",
     "output_type": "stream",
     "text": [
      "Accuracy:  0.4680232558139535\n",
      "Micro-averaged precision score: 0.47\n",
      "Macro-averaged precision score: 0.41\n",
      "Per-class precision score: [0.3956044  0.2962963  0.54773869]\n",
      "Precision Score: [0.35643564 0.21917808 0.64117647]\n",
      "Recall Score: [0.3956044  0.2962963  0.54773869]\n",
      "Accuracy Score: 0.4680232558139535\n",
      "F1 Score: [0.375      0.2519685  0.59078591]\n",
      "              precision    recall  f1-score   support\n",
      "\n",
      "      indica       0.36      0.40      0.37        91\n",
      "      satica       0.22      0.30      0.25        54\n",
      "      hybrid       0.64      0.55      0.59       199\n",
      "\n",
      "   micro avg       0.47      0.47      0.47       344\n",
      "   macro avg       0.41      0.41      0.41       344\n",
      "weighted avg       0.50      0.47      0.48       344\n",
      "\n"
     ]
    }
   ],
   "source": [
    "classifier2.fit(Xptrain, yptrain) \n",
    "y_pred = classifier2.predict(Xptest)\n",
    "y_score = classifier2.score(Xptest, yptest)\n",
    "print('Accuracy: ', y_score)\n",
    "\n",
    "micro_precision = precision_score(y_pred, yptest, average='micro')\n",
    "print('Micro-averaged precision score: {0:0.2f}'.format(\n",
    "      micro_precision))\n",
    "\n",
    "macro_precision = precision_score(y_pred, yptest, average='macro')\n",
    "print('Macro-averaged precision score: {0:0.2f}'.format(\n",
    "      macro_precision))\n",
    "\n",
    "per_class_precision = precision_score(y_pred, yptest, average=None)\n",
    "print('Per-class precision score:', per_class_precision)\n",
    "\n",
    "print_metrics(y_test,y_pred)\n",
    "print(classification_report(yptest,y_pred,target_names=['indica','satica','hybrid']))\n",
    "# roc(classifier2,df_train,df_test,y_train,y_test,n_classes)"
   ]
  },
  {
   "cell_type": "markdown",
   "metadata": {},
   "source": [
    "## Decision Tree using entropy and random state=10"
   ]
  },
  {
   "cell_type": "code",
   "execution_count": 161,
   "metadata": {
    "scrolled": true
   },
   "outputs": [
    {
     "data": {
      "text/plain": [
       "DecisionTreeClassifier(class_weight=None, criterion='entropy', max_depth=None,\n",
       "            max_features=None, max_leaf_nodes=None,\n",
       "            min_impurity_decrease=0.0, min_impurity_split=None,\n",
       "            min_samples_leaf=1, min_samples_split=2,\n",
       "            min_weight_fraction_leaf=0.0, presort=False, random_state=10,\n",
       "            splitter='best')"
      ]
     },
     "execution_count": 161,
     "metadata": {},
     "output_type": "execute_result"
    }
   ],
   "source": [
    "classifier3 = DecisionTreeClassifier(criterion='entropy',random_state=10)  \n",
    "classifier3.fit(scaled_data_train, y_train) "
   ]
  },
  {
   "cell_type": "code",
   "execution_count": 162,
   "metadata": {
    "scrolled": false
   },
   "outputs": [
    {
     "name": "stdout",
     "output_type": "stream",
     "text": [
      "Accuracy is: 0.5755813953488372\n",
      "Micro-averaged precision score: 0.58\n",
      "Macro-averaged precision score: 0.61\n",
      "Per-class precision score: [0.63736264 0.66666667 0.52261307]\n",
      "Precision Score: [0.51785714 0.42857143 0.7027027 ]\n",
      "Recall Score: [0.63736264 0.66666667 0.52261307]\n",
      "Accuracy Score: 0.5755813953488372\n",
      "F1 Score: [0.57142857 0.52173913 0.59942363]\n",
      "              precision    recall  f1-score   support\n",
      "\n",
      "      indica       0.52      0.64      0.57        91\n",
      "      satica       0.43      0.67      0.52        54\n",
      "      hybrid       0.70      0.52      0.60       199\n",
      "\n",
      "   micro avg       0.58      0.58      0.58       344\n",
      "   macro avg       0.55      0.61      0.56       344\n",
      "weighted avg       0.61      0.58      0.58       344\n",
      "\n"
     ]
    }
   ],
   "source": [
    "y_pred = classifier3.predict(scaled_data_test)\n",
    "\n",
    "acc = accuracy_score(y_test,y_pred)\n",
    "print(\"Accuracy is: {}\".format(acc))\n",
    "\n",
    "micro_precision = precision_score(y_pred, y_test, average='micro')\n",
    "print('Micro-averaged precision score: {0:0.2f}'.format(\n",
    "      micro_precision))\n",
    "\n",
    "macro_precision = precision_score(y_pred, y_test, average='macro')\n",
    "print('Macro-averaged precision score: {0:0.2f}'.format(\n",
    "      macro_precision))\n",
    "\n",
    "per_class_precision = precision_score(y_pred, y_test, average=None)\n",
    "print('Per-class precision score:', per_class_precision)\n",
    "print_metrics(y_test,y_pred)\n",
    "print(classification_report(y_test,y_pred,target_names=['indica','satica','hybrid']))\n",
    "# roc(classifier3,scaled_data_train,scaled_data_test,y_train,y_test,n_classes)"
   ]
  },
  {
   "cell_type": "markdown",
   "metadata": {},
   "source": [
    "### With Selected Features:"
   ]
  },
  {
   "cell_type": "code",
   "execution_count": 163,
   "metadata": {
    "scrolled": true
   },
   "outputs": [
    {
     "data": {
      "text/plain": [
       "DecisionTreeClassifier(class_weight=None, criterion='entropy', max_depth=None,\n",
       "            max_features=None, max_leaf_nodes=None,\n",
       "            min_impurity_decrease=0.0, min_impurity_split=None,\n",
       "            min_samples_leaf=1, min_samples_split=2,\n",
       "            min_weight_fraction_leaf=0.0, presort=False, random_state=10,\n",
       "            splitter='best')"
      ]
     },
     "execution_count": 163,
     "metadata": {},
     "output_type": "execute_result"
    }
   ],
   "source": [
    "classifier3 = DecisionTreeClassifier(criterion='entropy',random_state=10)  \n",
    "classifier3.fit(df_train, y_train) "
   ]
  },
  {
   "cell_type": "code",
   "execution_count": 164,
   "metadata": {
    "scrolled": true
   },
   "outputs": [
    {
     "name": "stdout",
     "output_type": "stream",
     "text": [
      "Accuracy is: 0.5261627906976745\n",
      "Micro-averaged precision score: 0.53\n",
      "Macro-averaged precision score: 0.57\n",
      "Per-class precision score: [0.59340659 0.66666667 0.45728643]\n",
      "Precision Score: [0.52941176 0.34951456 0.65467626]\n",
      "Recall Score: [0.59340659 0.66666667 0.45728643]\n",
      "Accuracy Score: 0.5261627906976745\n",
      "F1 Score: [0.55958549 0.45859873 0.53846154]\n",
      "              precision    recall  f1-score   support\n",
      "\n",
      "      indica       0.53      0.59      0.56        91\n",
      "      satica       0.35      0.67      0.46        54\n",
      "      hybrid       0.65      0.46      0.54       199\n",
      "\n",
      "   micro avg       0.53      0.53      0.53       344\n",
      "   macro avg       0.51      0.57      0.52       344\n",
      "weighted avg       0.57      0.53      0.53       344\n",
      "\n"
     ]
    }
   ],
   "source": [
    "y_pred = classifier3.predict(df_test)\n",
    "\n",
    "acc = accuracy_score(y_test,y_pred)\n",
    "print(\"Accuracy is: {}\".format(acc))\n",
    "\n",
    "micro_precision = precision_score(y_pred, y_test, average='micro')\n",
    "print('Micro-averaged precision score: {0:0.2f}'.format(\n",
    "      micro_precision))\n",
    "\n",
    "macro_precision = precision_score(y_pred, y_test, average='macro')\n",
    "print('Macro-averaged precision score: {0:0.2f}'.format(\n",
    "      macro_precision))\n",
    "\n",
    "per_class_precision = precision_score(y_pred, y_test, average=None)\n",
    "print('Per-class precision score:', per_class_precision)\n",
    "print_metrics(y_test,y_pred)\n",
    "print(classification_report(y_test,y_pred,target_names=['indica','satica','hybrid']))\n",
    "# roc(classifier3,df_train,df_test,y_train,y_test,n_classes)"
   ]
  },
  {
   "cell_type": "markdown",
   "metadata": {},
   "source": [
    "### With PCA"
   ]
  },
  {
   "cell_type": "code",
   "execution_count": 166,
   "metadata": {},
   "outputs": [
    {
     "name": "stdout",
     "output_type": "stream",
     "text": [
      "Accuracy is: 0.4738372093023256\n",
      "Micro-averaged precision score: 0.47\n",
      "Macro-averaged precision score: 0.41\n",
      "Per-class precision score: [0.41758242 0.24074074 0.56281407]\n",
      "Precision Score: [0.37254902 0.19402985 0.64      ]\n",
      "Recall Score: [0.41758242 0.24074074 0.56281407]\n",
      "Accuracy Score: 0.4738372093023256\n",
      "F1 Score: [0.39378238 0.21487603 0.59893048]\n",
      "              precision    recall  f1-score   support\n",
      "\n",
      "      indica       0.37      0.42      0.39        91\n",
      "      satica       0.19      0.24      0.21        54\n",
      "      hybrid       0.64      0.56      0.60       199\n",
      "\n",
      "   micro avg       0.47      0.47      0.47       344\n",
      "   macro avg       0.40      0.41      0.40       344\n",
      "weighted avg       0.50      0.47      0.48       344\n",
      "\n"
     ]
    }
   ],
   "source": [
    "classifier3.fit(Xptrain, yptrain) \n",
    "y_pred = classifier3.predict(Xptest)\n",
    "\n",
    "acc = accuracy_score(yptest,y_pred)\n",
    "print(\"Accuracy is: {}\".format(acc))\n",
    "\n",
    "micro_precision = precision_score(y_pred, yptest, average='micro')\n",
    "print('Micro-averaged precision score: {0:0.2f}'.format(\n",
    "      micro_precision))\n",
    "\n",
    "macro_precision = precision_score(y_pred, yptest, average='macro')\n",
    "print('Macro-averaged precision score: {0:0.2f}'.format(\n",
    "      macro_precision))\n",
    "\n",
    "per_class_precision = precision_score(y_pred, yptest, average=None)\n",
    "print('Per-class precision score:', per_class_precision)\n",
    "print_metrics(yptest,y_pred)\n",
    "print(classification_report(yptest,y_pred,target_names=['indica','satica','hybrid']))\n",
    "# roc(classifier3,df_train,df_test,y_train,y_test,n_classes)"
   ]
  },
  {
   "cell_type": "code",
   "execution_count": 165,
   "metadata": {},
   "outputs": [],
   "source": [
    "#Still need to get F1, Recall, and Decision Tree visualization!!!"
   ]
  },
  {
   "cell_type": "markdown",
   "metadata": {},
   "source": [
    "## Grid Search with Decision Tree: All Features"
   ]
  },
  {
   "cell_type": "code",
   "execution_count": 167,
   "metadata": {},
   "outputs": [
    {
     "name": "stdout",
     "output_type": "stream",
     "text": [
      "Mean Cross Validation Score: 51.85%\n",
      "Mean Training Score: 68.29%\n",
      "Mean Testing Score: 65.7%\n",
      "Best Parameter Combination Found During Grid Search:\n"
     ]
    },
    {
     "data": {
      "text/plain": [
       "{'criterion': 'entropy',\n",
       " 'max_depth': 4,\n",
       " 'min_samples_leaf': 4,\n",
       " 'min_samples_split': 2}"
      ]
     },
     "execution_count": 167,
     "metadata": {},
     "output_type": "execute_result"
    }
   ],
   "source": [
    "model=DecisionTreeClassifier()\n",
    "dt_cv_score=cross_val_score(model, scaled_data_train, y_train)\n",
    "meandtcv=dt_cv_score.mean()\n",
    "print(\"Mean Cross Validation Score: {:.4}%\".format(meandtcv * 100))\n",
    "\n",
    "dt_param_grid = {\n",
    "    'criterion':['entropy','gini'],\n",
    "    'max_depth':[None, 2, 3, 4, 5, 6],\n",
    "    'min_samples_split': [2, 5, 10],\n",
    "    'min_samples_leaf': [1, 2, 3, 4, 5, 6]   \n",
    "}\n",
    "\n",
    "dt_grid_search = GridSearchCV(model, dt_param_grid, cv=10, return_train_score=True)\n",
    "dt_grid_search.fit(scaled_data_train, y_train)\n",
    "\n",
    "dt_gs_training_score = np.mean(dt_grid_search.cv_results_['mean_train_score'])\n",
    "dt_gs_testing_score = dt_grid_search.score(scaled_data_test, y_test)\n",
    "\n",
    "print(\"Mean Training Score: {:.4}%\".format(dt_gs_training_score * 100))\n",
    "print(\"Mean Testing Score: {:.4}%\".format(dt_gs_testing_score * 100))\n",
    "print(\"Best Parameter Combination Found During Grid Search:\")\n",
    "dt_grid_search.best_params_"
   ]
  },
  {
   "cell_type": "code",
   "execution_count": 168,
   "metadata": {},
   "outputs": [
    {
     "data": {
      "text/plain": [
       "DecisionTreeClassifier(class_weight=None, criterion='entropy', max_depth=4,\n",
       "            max_features=None, max_leaf_nodes=None,\n",
       "            min_impurity_decrease=0.0, min_impurity_split=None,\n",
       "            min_samples_leaf=4, min_samples_split=2,\n",
       "            min_weight_fraction_leaf=0.0, presort=False, random_state=None,\n",
       "            splitter='best')"
      ]
     },
     "execution_count": 168,
     "metadata": {},
     "output_type": "execute_result"
    }
   ],
   "source": [
    "classifier3 = DecisionTreeClassifier(criterion='entropy',max_depth=4,min_samples_leaf=4,min_samples_split=2)  \n",
    "classifier3.fit(scaled_data_train, y_train) "
   ]
  },
  {
   "cell_type": "code",
   "execution_count": 50,
   "metadata": {},
   "outputs": [
    {
     "name": "stdout",
     "output_type": "stream",
     "text": [
      "Accuracy is: 0.6569767441860465\n",
      "Micro-averaged precision score: 0.66\n",
      "Macro-averaged precision score: 0.61\n",
      "Per-class precision score: [0.56043956 0.55555556 0.72864322]\n",
      "Precision Score: [0.72857143 0.46153846 0.6937799 ]\n",
      "Recall Score: [0.56043956 0.55555556 0.72864322]\n",
      "Accuracy Score: 0.6569767441860465\n",
      "F1 Score: [0.63354037 0.50420168 0.71078431]\n",
      "              precision    recall  f1-score   support\n",
      "\n",
      "      indica       0.73      0.56      0.63        91\n",
      "      satica       0.46      0.56      0.50        54\n",
      "      hybrid       0.69      0.73      0.71       199\n",
      "\n",
      "   micro avg       0.66      0.66      0.66       344\n",
      "   macro avg       0.63      0.61      0.62       344\n",
      "weighted avg       0.67      0.66      0.66       344\n",
      "\n"
     ]
    }
   ],
   "source": [
    "y_pred = classifier3.predict(scaled_data_test)\n",
    "\n",
    "acc = accuracy_score(y_test,y_pred)\n",
    "print(\"Accuracy is: {}\".format(acc))\n",
    "\n",
    "micro_precision = precision_score(y_pred, y_test, average='micro')\n",
    "print('Micro-averaged precision score: {0:0.2f}'.format(\n",
    "      micro_precision))\n",
    "\n",
    "macro_precision = precision_score(y_pred, y_test, average='macro')\n",
    "print('Macro-averaged precision score: {0:0.2f}'.format(\n",
    "      macro_precision))\n",
    "\n",
    "per_class_precision = precision_score(y_pred, y_test, average=None)\n",
    "print('Per-class precision score:', per_class_precision)\n",
    "print_metrics(y_test,y_pred)\n",
    "print(classification_report(y_test,y_pred,target_names=['indica','satica','hybrid']))\n",
    "# roc(classifier3,scaled_data_train,scaled_data_test,y_train,y_test,n_classes)"
   ]
  },
  {
   "cell_type": "markdown",
   "metadata": {},
   "source": [
    "### Grid Search Decision Tree: Selected Features"
   ]
  },
  {
   "cell_type": "code",
   "execution_count": 51,
   "metadata": {},
   "outputs": [
    {
     "name": "stdout",
     "output_type": "stream",
     "text": [
      "Mean Cross Validation Score: 53.59%\n",
      "Mean Training Score: 67.08%\n",
      "Mean Testing Score: 65.99%\n",
      "Best Parameter Combination Found During Grid Search:\n"
     ]
    },
    {
     "data": {
      "text/plain": [
       "{'criterion': 'entropy',\n",
       " 'max_depth': 4,\n",
       " 'min_samples_leaf': 3,\n",
       " 'min_samples_split': 2}"
      ]
     },
     "execution_count": 51,
     "metadata": {},
     "output_type": "execute_result"
    }
   ],
   "source": [
    "model=DecisionTreeClassifier()\n",
    "dt_cv_score=cross_val_score(model, df_train, y_train)\n",
    "meandtcv=dt_cv_score.mean()\n",
    "print(\"Mean Cross Validation Score: {:.4}%\".format(meandtcv * 100))\n",
    "\n",
    "dt_param_grid = {\n",
    "    'criterion':['entropy','gini'],\n",
    "    'max_depth':[None, 2, 3, 4, 5, 6],\n",
    "    'min_samples_split': [2, 5, 10],\n",
    "    'min_samples_leaf': [1, 2, 3, 4, 5, 6]   \n",
    "}\n",
    "\n",
    "dt_grid_search = GridSearchCV(model, dt_param_grid, cv=10, return_train_score=True)\n",
    "dt_grid_search.fit(df_train, y_train)\n",
    "\n",
    "dt_gs_training_score = np.mean(dt_grid_search.cv_results_['mean_train_score'])\n",
    "dt_gs_testing_score = dt_grid_search.score(df_test, y_test)\n",
    "\n",
    "print(\"Mean Training Score: {:.4}%\".format(dt_gs_training_score * 100))\n",
    "print(\"Mean Testing Score: {:.4}%\".format(dt_gs_testing_score * 100))\n",
    "print(\"Best Parameter Combination Found During Grid Search:\")\n",
    "dt_grid_search.best_params_"
   ]
  },
  {
   "cell_type": "code",
   "execution_count": 52,
   "metadata": {
    "scrolled": true
   },
   "outputs": [
    {
     "data": {
      "text/plain": [
       "DecisionTreeClassifier(class_weight=None, criterion='entropy', max_depth=4,\n",
       "            max_features=None, max_leaf_nodes=None,\n",
       "            min_impurity_decrease=0.0, min_impurity_split=None,\n",
       "            min_samples_leaf=3, min_samples_split=2,\n",
       "            min_weight_fraction_leaf=0.0, presort=False, random_state=None,\n",
       "            splitter='best')"
      ]
     },
     "execution_count": 52,
     "metadata": {},
     "output_type": "execute_result"
    }
   ],
   "source": [
    "classifier3 = DecisionTreeClassifier(criterion='entropy',max_depth=4,min_samples_leaf=3,min_samples_split=2)  \n",
    "classifier3.fit(df_train, y_train) "
   ]
  },
  {
   "cell_type": "code",
   "execution_count": 53,
   "metadata": {
    "scrolled": true
   },
   "outputs": [
    {
     "name": "stdout",
     "output_type": "stream",
     "text": [
      "Accuracy is: 0.6598837209302325\n",
      "Micro-averaged precision score: 0.66\n",
      "Macro-averaged precision score: 0.62\n",
      "Per-class precision score: [0.56043956 0.55555556 0.73366834]\n",
      "Precision Score: [0.73913043 0.46153846 0.6952381 ]\n",
      "Recall Score: [0.56043956 0.55555556 0.73366834]\n",
      "Accuracy Score: 0.6598837209302325\n",
      "F1 Score: [0.6375     0.50420168 0.71393643]\n",
      "              precision    recall  f1-score   support\n",
      "\n",
      "      indica       0.74      0.56      0.64        91\n",
      "      satica       0.46      0.56      0.50        54\n",
      "      hybrid       0.70      0.73      0.71       199\n",
      "\n",
      "   micro avg       0.66      0.66      0.66       344\n",
      "   macro avg       0.63      0.62      0.62       344\n",
      "weighted avg       0.67      0.66      0.66       344\n",
      "\n"
     ]
    }
   ],
   "source": [
    "y_pred = classifier3.predict(df_test)\n",
    "acc = accuracy_score(y_test,y_pred)\n",
    "print(\"Accuracy is: {}\".format(acc))\n",
    "\n",
    "micro_precision = precision_score(y_pred, y_test, average='micro')\n",
    "print('Micro-averaged precision score: {0:0.2f}'.format(\n",
    "      micro_precision))\n",
    "\n",
    "macro_precision = precision_score(y_pred, y_test, average='macro')\n",
    "print('Macro-averaged precision score: {0:0.2f}'.format(\n",
    "      macro_precision))\n",
    "\n",
    "per_class_precision = precision_score(y_pred, y_test, average=None)\n",
    "print('Per-class precision score:', per_class_precision)\n",
    "print_metrics(y_test,y_pred)\n",
    "print(classification_report(y_test,y_pred,target_names=['indica','satica','hybrid']))\n",
    "# roc(classifier3,df_train,df_test,y_train,y_test,n_classes)"
   ]
  },
  {
   "cell_type": "markdown",
   "metadata": {},
   "source": [
    "### With PCA"
   ]
  },
  {
   "cell_type": "code",
   "execution_count": 169,
   "metadata": {
    "scrolled": true
   },
   "outputs": [
    {
     "name": "stdout",
     "output_type": "stream",
     "text": [
      "Mean Cross Validation Score: 45.14%\n",
      "Mean Training Score: 58.01%\n",
      "Mean Testing Score: 54.36%\n",
      "Best Parameter Combination Found During Grid Search:\n"
     ]
    },
    {
     "data": {
      "text/plain": [
       "{'criterion': 'entropy',\n",
       " 'max_depth': 5,\n",
       " 'min_samples_leaf': 1,\n",
       " 'min_samples_split': 5}"
      ]
     },
     "execution_count": 169,
     "metadata": {},
     "output_type": "execute_result"
    }
   ],
   "source": [
    "model=DecisionTreeClassifier()\n",
    "dt_cv_score=cross_val_score(model, Xptrain, yptrain)\n",
    "meandtcv=dt_cv_score.mean()\n",
    "print(\"Mean Cross Validation Score: {:.4}%\".format(meandtcv * 100))\n",
    "\n",
    "dt_param_grid = {\n",
    "    'criterion':['entropy','gini'],\n",
    "    'max_depth':[None, 2, 3, 4, 5, 6],\n",
    "    'min_samples_split': [2, 5, 10],\n",
    "    'min_samples_leaf': [1, 2, 3, 4, 5, 6]   \n",
    "}\n",
    "\n",
    "dt_grid_search = GridSearchCV(model, dt_param_grid, cv=10, return_train_score=True)\n",
    "dt_grid_search.fit(Xptrain, yptrain)\n",
    "\n",
    "dt_gs_training_score = np.mean(dt_grid_search.cv_results_['mean_train_score'])\n",
    "dt_gs_testing_score = dt_grid_search.score(Xptest, yptest)\n",
    "\n",
    "print(\"Mean Training Score: {:.4}%\".format(dt_gs_training_score * 100))\n",
    "print(\"Mean Testing Score: {:.4}%\".format(dt_gs_testing_score * 100))\n",
    "print(\"Best Parameter Combination Found During Grid Search:\")\n",
    "dt_grid_search.best_params_"
   ]
  },
  {
   "cell_type": "code",
   "execution_count": 170,
   "metadata": {
    "scrolled": true
   },
   "outputs": [
    {
     "data": {
      "text/plain": [
       "DecisionTreeClassifier(class_weight=None, criterion='entropy', max_depth=5,\n",
       "            max_features=None, max_leaf_nodes=None,\n",
       "            min_impurity_decrease=0.0, min_impurity_split=None,\n",
       "            min_samples_leaf=1, min_samples_split=5,\n",
       "            min_weight_fraction_leaf=0.0, presort=False, random_state=None,\n",
       "            splitter='best')"
      ]
     },
     "execution_count": 170,
     "metadata": {},
     "output_type": "execute_result"
    }
   ],
   "source": [
    "classifier3 = DecisionTreeClassifier(criterion='entropy',max_depth=5,min_samples_leaf=1,min_samples_split=5)  \n",
    "classifier3.fit(Xptrain, yptrain) "
   ]
  },
  {
   "cell_type": "code",
   "execution_count": 171,
   "metadata": {},
   "outputs": [
    {
     "name": "stdout",
     "output_type": "stream",
     "text": [
      "Accuracy is: 0.5436046511627907\n",
      "Micro-averaged precision score: 0.54\n",
      "Macro-averaged precision score: 0.35\n",
      "Per-class precision score: [0.15384615 0.01851852 0.86432161]\n",
      "Precision Score: [0.31111111 0.33333333 0.58108108]\n",
      "Recall Score: [0.15384615 0.01851852 0.86432161]\n",
      "Accuracy Score: 0.5436046511627907\n",
      "F1 Score: [0.20588235 0.03508772 0.69494949]\n",
      "              precision    recall  f1-score   support\n",
      "\n",
      "      indica       0.31      0.15      0.21        91\n",
      "      satica       0.33      0.02      0.04        54\n",
      "      hybrid       0.58      0.86      0.69       199\n",
      "\n",
      "   micro avg       0.54      0.54      0.54       344\n",
      "   macro avg       0.41      0.35      0.31       344\n",
      "weighted avg       0.47      0.54      0.46       344\n",
      "\n"
     ]
    }
   ],
   "source": [
    "y_pred = classifier3.predict(Xptest)\n",
    "acc = accuracy_score(yptest,y_pred)\n",
    "print(\"Accuracy is: {}\".format(acc))\n",
    "\n",
    "micro_precision = precision_score(y_pred, yptest, average='micro')\n",
    "print('Micro-averaged precision score: {0:0.2f}'.format(\n",
    "      micro_precision))\n",
    "\n",
    "macro_precision = precision_score(y_pred, yptest, average='macro')\n",
    "print('Macro-averaged precision score: {0:0.2f}'.format(\n",
    "      macro_precision))\n",
    "\n",
    "per_class_precision = precision_score(y_pred, yptest, average=None)\n",
    "print('Per-class precision score:', per_class_precision)\n",
    "print_metrics(yptest,y_pred)\n",
    "print(classification_report(yptest,y_pred,target_names=['indica','satica','hybrid']))\n",
    "# roc(classifier3,df_train,df_test,y_train,y_test,n_classes)"
   ]
  },
  {
   "cell_type": "markdown",
   "metadata": {},
   "source": [
    "## Random Forest"
   ]
  },
  {
   "cell_type": "markdown",
   "metadata": {},
   "source": [
    "### Regular Forest Baseline"
   ]
  },
  {
   "cell_type": "code",
   "execution_count": 54,
   "metadata": {},
   "outputs": [
    {
     "name": "stdout",
     "output_type": "stream",
     "text": [
      "Precision Score: [0.56043956 0.55555556 0.73366834]\n",
      "Recall Score: [0.73913043 0.46153846 0.6952381 ]\n",
      "Accuracy Score: 0.6598837209302325\n",
      "F1 Score: [0.6375     0.50420168 0.71393643]\n"
     ]
    },
    {
     "data": {
      "image/png": "[encoded data removed]",
      "text/plain": [
       "<Figure size 576x576 with 1 Axes>"
      ]
     },
     "metadata": {
      "needs_background": "light"
     },
     "output_type": "display_data"
    }
   ],
   "source": [
    "tree_clf = DecisionTreeClassifier(criterion = \"gini\", max_depth = 5) \n",
    "tree_clf.fit(scaled_data_train, y_train)\n",
    "# roc(tree_clf,scaled_data_train,scaled_data_test,y_train,y_test,n_classes)\n",
    "plot_feature_importances(tree_clf, pd.DataFrame(scaled_data_train))\n",
    "print_metrics(y_pred,y_test)"
   ]
  },
  {
   "cell_type": "markdown",
   "metadata": {},
   "source": [
    "#### With Selected Feautres:"
   ]
  },
  {
   "cell_type": "code",
   "execution_count": 55,
   "metadata": {
    "scrolled": true
   },
   "outputs": [
    {
     "name": "stdout",
     "output_type": "stream",
     "text": [
      "Precision Score: [0.56043956 0.55555556 0.73366834]\n",
      "Recall Score: [0.73913043 0.46153846 0.6952381 ]\n",
      "Accuracy Score: 0.6598837209302325\n",
      "F1 Score: [0.6375     0.50420168 0.71393643]\n"
     ]
    },
    {
     "data": {
      "image/png": "[encoded data removed]",
      "text/plain": [
       "<Figure size 576x576 with 1 Axes>"
      ]
     },
     "metadata": {
      "needs_background": "light"
     },
     "output_type": "display_data"
    }
   ],
   "source": [
    "tree_clf = DecisionTreeClassifier(criterion = \"gini\", max_depth = 5) \n",
    "tree_clf.fit(df_train, y_train)\n",
    "# roc(tree_clf,df_train,df_test,y_train,y_test,n_classes)\n",
    "plot_feature_importances(tree_clf, df_train)\n",
    "print_metrics(y_pred,y_test)"
   ]
  },
  {
   "cell_type": "markdown",
   "metadata": {},
   "source": [
    "### With PCA"
   ]
  },
  {
   "cell_type": "code",
   "execution_count": 172,
   "metadata": {},
   "outputs": [
    {
     "name": "stdout",
     "output_type": "stream",
     "text": [
      "Precision Score: [0.15384615 0.01851852 0.86432161]\n",
      "Recall Score: [0.31111111 0.33333333 0.58108108]\n",
      "Accuracy Score: 0.5436046511627907\n",
      "F1 Score: [0.20588235 0.03508772 0.69494949]\n"
     ]
    },
    {
     "data": {
      "image/png": "[encoded data removed]",
      "text/plain": [
       "<Figure size 576x576 with 1 Axes>"
      ]
     },
     "metadata": {
      "needs_background": "light"
     },
     "output_type": "display_data"
    }
   ],
   "source": [
    "tree_clf = DecisionTreeClassifier(criterion = \"gini\", max_depth = 5) \n",
    "tree_clf.fit(Xptrain, yptrain)\n",
    "# roc(tree_clf,df_train,df_test,y_train,y_test,n_classes)\n",
    "plot_feature_importances(tree_clf, Xptrain)\n",
    "print_metrics(y_pred,yptest)"
   ]
  },
  {
   "cell_type": "code",
   "execution_count": 56,
   "metadata": {},
   "outputs": [],
   "source": [
    "#How to with multilabel-indicator????\n",
    "# pred = tree_clf.predict(X_test)\n",
    "# print(confusion_matrix(y_test, pred))\n",
    "# print(classification_report(X_test, pred))\n",
    "\n",
    "# acc = accuracy_score(y_test,y_pred)\n",
    "# print(\"Accuracy is: {}\".format(acc))"
   ]
  },
  {
   "cell_type": "markdown",
   "metadata": {},
   "source": [
    "### Forest"
   ]
  },
  {
   "cell_type": "code",
   "execution_count": 57,
   "metadata": {},
   "outputs": [
    {
     "data": {
      "text/plain": [
       "RandomForestClassifier(bootstrap=True, class_weight=None, criterion='gini',\n",
       "            max_depth=5, max_features='auto', max_leaf_nodes=None,\n",
       "            min_impurity_decrease=0.0, min_impurity_split=None,\n",
       "            min_samples_leaf=1, min_samples_split=2,\n",
       "            min_weight_fraction_leaf=0.0, n_estimators=100, n_jobs=None,\n",
       "            oob_score=False, random_state=None, verbose=0,\n",
       "            warm_start=False)"
      ]
     },
     "execution_count": 57,
     "metadata": {},
     "output_type": "execute_result"
    }
   ],
   "source": [
    "forest = RandomForestClassifier(n_estimators=100, max_depth= 5)\n",
    "forest.fit(scaled_data_train, y_train)"
   ]
  },
  {
   "cell_type": "code",
   "execution_count": 58,
   "metadata": {},
   "outputs": [
    {
     "name": "stdout",
     "output_type": "stream",
     "text": [
      "Training Score: 0.6912621359223301\n",
      "Testing Score: 0.6744186046511628\n"
     ]
    }
   ],
   "source": [
    "train_score=forest.score(scaled_data_train,y_train)\n",
    "test_score=forest.score(scaled_data_test,y_test)\n",
    "print('Training Score: {}'.format(train_score))\n",
    "print('Testing Score: {}'.format(test_score))"
   ]
  },
  {
   "cell_type": "code",
   "execution_count": 59,
   "metadata": {
    "scrolled": false
   },
   "outputs": [
    {
     "data": {
      "image/png": "[encoded data removed]",
      "text/plain": [
       "<Figure size 576x576 with 1 Axes>"
      ]
     },
     "metadata": {
      "needs_background": "light"
     },
     "output_type": "display_data"
    }
   ],
   "source": [
    "plot_feature_importances(forest,pd.DataFrame(scaled_data_train))"
   ]
  },
  {
   "cell_type": "markdown",
   "metadata": {},
   "source": [
    "### For Selected Features:"
   ]
  },
  {
   "cell_type": "code",
   "execution_count": 60,
   "metadata": {
    "scrolled": true
   },
   "outputs": [
    {
     "data": {
      "text/plain": [
       "RandomForestClassifier(bootstrap=True, class_weight=None, criterion='gini',\n",
       "            max_depth=5, max_features='auto', max_leaf_nodes=None,\n",
       "            min_impurity_decrease=0.0, min_impurity_split=None,\n",
       "            min_samples_leaf=1, min_samples_split=2,\n",
       "            min_weight_fraction_leaf=0.0, n_estimators=100, n_jobs=None,\n",
       "            oob_score=False, random_state=None, verbose=0,\n",
       "            warm_start=False)"
      ]
     },
     "execution_count": 60,
     "metadata": {},
     "output_type": "execute_result"
    }
   ],
   "source": [
    "forest = RandomForestClassifier(n_estimators=100, max_depth= 5)\n",
    "forest.fit(df_train, y_train)"
   ]
  },
  {
   "cell_type": "code",
   "execution_count": 61,
   "metadata": {
    "scrolled": false
   },
   "outputs": [
    {
     "name": "stdout",
     "output_type": "stream",
     "text": [
      "Training Score: 0.6737864077669903\n",
      "Testing Score: 0.6686046511627907\n"
     ]
    }
   ],
   "source": [
    "train_score=forest.score(df_train,y_train)\n",
    "test_score=forest.score(df_test,y_test)\n",
    "print('Training Score: {}'.format(train_score))\n",
    "print('Testing Score: {}'.format(test_score))"
   ]
  },
  {
   "cell_type": "markdown",
   "metadata": {},
   "source": [
    "### With PCA"
   ]
  },
  {
   "cell_type": "code",
   "execution_count": 173,
   "metadata": {},
   "outputs": [
    {
     "data": {
      "text/plain": [
       "RandomForestClassifier(bootstrap=True, class_weight=None, criterion='gini',\n",
       "            max_depth=5, max_features='auto', max_leaf_nodes=None,\n",
       "            min_impurity_decrease=0.0, min_impurity_split=None,\n",
       "            min_samples_leaf=1, min_samples_split=2,\n",
       "            min_weight_fraction_leaf=0.0, n_estimators=100, n_jobs=None,\n",
       "            oob_score=False, random_state=None, verbose=0,\n",
       "            warm_start=False)"
      ]
     },
     "execution_count": 173,
     "metadata": {},
     "output_type": "execute_result"
    }
   ],
   "source": [
    "forest = RandomForestClassifier(n_estimators=100, max_depth= 5)\n",
    "forest.fit(Xptrain, yptrain)"
   ]
  },
  {
   "cell_type": "code",
   "execution_count": 175,
   "metadata": {},
   "outputs": [
    {
     "ename": "ValueError",
     "evalue": "Number of features of the model must match the input. Model n_features is 2 and input n_features is 15 ",
     "output_type": "error",
     "traceback": [
      "\u001b[0;31m---------------------------------------------------------------------------\u001b[0m",
      "\u001b[0;31mValueError\u001b[0m                                Traceback (most recent call last)",
      "\u001b[0;32m<ipython-input-175-2b0f295e06f5>\u001b[0m in \u001b[0;36m<module>\u001b[0;34m\u001b[0m\n\u001b[1;32m      1\u001b[0m \u001b[0mtrain_score\u001b[0m\u001b[0;34m=\u001b[0m\u001b[0mforest\u001b[0m\u001b[0;34m.\u001b[0m\u001b[0mscore\u001b[0m\u001b[0;34m(\u001b[0m\u001b[0mXptrain\u001b[0m\u001b[0;34m,\u001b[0m\u001b[0myptrain\u001b[0m\u001b[0;34m)\u001b[0m\u001b[0;34m\u001b[0m\u001b[0;34m\u001b[0m\u001b[0m\n\u001b[0;32m----> 2\u001b[0;31m \u001b[0mtest_score\u001b[0m\u001b[0;34m=\u001b[0m\u001b[0mforest\u001b[0m\u001b[0;34m.\u001b[0m\u001b[0mscore\u001b[0m\u001b[0;34m(\u001b[0m\u001b[0mdf_test\u001b[0m\u001b[0;34m,\u001b[0m\u001b[0myptest\u001b[0m\u001b[0;34m)\u001b[0m\u001b[0;34m\u001b[0m\u001b[0;34m\u001b[0m\u001b[0m\n\u001b[0m\u001b[1;32m      3\u001b[0m \u001b[0mprint\u001b[0m\u001b[0;34m(\u001b[0m\u001b[0;34m'Training Score: {}'\u001b[0m\u001b[0;34m.\u001b[0m\u001b[0mformat\u001b[0m\u001b[0;34m(\u001b[0m\u001b[0mtrain_score\u001b[0m\u001b[0;34m)\u001b[0m\u001b[0;34m)\u001b[0m\u001b[0;34m\u001b[0m\u001b[0;34m\u001b[0m\u001b[0m\n\u001b[1;32m      4\u001b[0m \u001b[0mprint\u001b[0m\u001b[0;34m(\u001b[0m\u001b[0;34m'Testing Score: {}'\u001b[0m\u001b[0;34m.\u001b[0m\u001b[0mformat\u001b[0m\u001b[0;34m(\u001b[0m\u001b[0mtest_score\u001b[0m\u001b[0;34m)\u001b[0m\u001b[0;34m)\u001b[0m\u001b[0;34m\u001b[0m\u001b[0;34m\u001b[0m\u001b[0m\n",
      "\u001b[0;32m~/anaconda3/lib/python3.7/site-packages/sklearn/base.py\u001b[0m in \u001b[0;36mscore\u001b[0;34m(self, X, y, sample_weight)\u001b[0m\n\u001b[1;32m    288\u001b[0m         \"\"\"\n\u001b[1;32m    289\u001b[0m         \u001b[0;32mfrom\u001b[0m \u001b[0;34m.\u001b[0m\u001b[0mmetrics\u001b[0m \u001b[0;32mimport\u001b[0m \u001b[0maccuracy_score\u001b[0m\u001b[0;34m\u001b[0m\u001b[0;34m\u001b[0m\u001b[0m\n\u001b[0;32m--> 290\u001b[0;31m         \u001b[0;32mreturn\u001b[0m \u001b[0maccuracy_score\u001b[0m\u001b[0;34m(\u001b[0m\u001b[0my\u001b[0m\u001b[0;34m,\u001b[0m \u001b[0mself\u001b[0m\u001b[0;34m.\u001b[0m\u001b[0mpredict\u001b[0m\u001b[0;34m(\u001b[0m\u001b[0mX\u001b[0m\u001b[0;34m)\u001b[0m\u001b[0;34m,\u001b[0m \u001b[0msample_weight\u001b[0m\u001b[0;34m=\u001b[0m\u001b[0msample_weight\u001b[0m\u001b[0;34m)\u001b[0m\u001b[0;34m\u001b[0m\u001b[0;34m\u001b[0m\u001b[0m\n\u001b[0m\u001b[1;32m    291\u001b[0m \u001b[0;34m\u001b[0m\u001b[0m\n\u001b[1;32m    292\u001b[0m \u001b[0;34m\u001b[0m\u001b[0m\n",
      "\u001b[0;32m~/anaconda3/lib/python3.7/site-packages/sklearn/ensemble/forest.py\u001b[0m in \u001b[0;36mpredict\u001b[0;34m(self, X)\u001b[0m\n\u001b[1;32m    541\u001b[0m             \u001b[0mThe\u001b[0m \u001b[0mpredicted\u001b[0m \u001b[0mclasses\u001b[0m\u001b[0;34m.\u001b[0m\u001b[0;34m\u001b[0m\u001b[0;34m\u001b[0m\u001b[0m\n\u001b[1;32m    542\u001b[0m         \"\"\"\n\u001b[0;32m--> 543\u001b[0;31m         \u001b[0mproba\u001b[0m \u001b[0;34m=\u001b[0m \u001b[0mself\u001b[0m\u001b[0;34m.\u001b[0m\u001b[0mpredict_proba\u001b[0m\u001b[0;34m(\u001b[0m\u001b[0mX\u001b[0m\u001b[0;34m)\u001b[0m\u001b[0;34m\u001b[0m\u001b[0;34m\u001b[0m\u001b[0m\n\u001b[0m\u001b[1;32m    544\u001b[0m \u001b[0;34m\u001b[0m\u001b[0m\n\u001b[1;32m    545\u001b[0m         \u001b[0;32mif\u001b[0m \u001b[0mself\u001b[0m\u001b[0;34m.\u001b[0m\u001b[0mn_outputs_\u001b[0m \u001b[0;34m==\u001b[0m \u001b[0;36m1\u001b[0m\u001b[0;34m:\u001b[0m\u001b[0;34m\u001b[0m\u001b[0;34m\u001b[0m\u001b[0m\n",
      "\u001b[0;32m~/anaconda3/lib/python3.7/site-packages/sklearn/ensemble/forest.py\u001b[0m in \u001b[0;36mpredict_proba\u001b[0;34m(self, X)\u001b[0m\n\u001b[1;32m    581\u001b[0m         \u001b[0mcheck_is_fitted\u001b[0m\u001b[0;34m(\u001b[0m\u001b[0mself\u001b[0m\u001b[0;34m,\u001b[0m \u001b[0;34m'estimators_'\u001b[0m\u001b[0;34m)\u001b[0m\u001b[0;34m\u001b[0m\u001b[0;34m\u001b[0m\u001b[0m\n\u001b[1;32m    582\u001b[0m         \u001b[0;31m# Check data\u001b[0m\u001b[0;34m\u001b[0m\u001b[0;34m\u001b[0m\u001b[0;34m\u001b[0m\u001b[0m\n\u001b[0;32m--> 583\u001b[0;31m         \u001b[0mX\u001b[0m \u001b[0;34m=\u001b[0m \u001b[0mself\u001b[0m\u001b[0;34m.\u001b[0m\u001b[0m_validate_X_predict\u001b[0m\u001b[0;34m(\u001b[0m\u001b[0mX\u001b[0m\u001b[0;34m)\u001b[0m\u001b[0;34m\u001b[0m\u001b[0;34m\u001b[0m\u001b[0m\n\u001b[0m\u001b[1;32m    584\u001b[0m \u001b[0;34m\u001b[0m\u001b[0m\n\u001b[1;32m    585\u001b[0m         \u001b[0;31m# Assign chunk of trees to jobs\u001b[0m\u001b[0;34m\u001b[0m\u001b[0;34m\u001b[0m\u001b[0;34m\u001b[0m\u001b[0m\n",
      "\u001b[0;32m~/anaconda3/lib/python3.7/site-packages/sklearn/ensemble/forest.py\u001b[0m in \u001b[0;36m_validate_X_predict\u001b[0;34m(self, X)\u001b[0m\n\u001b[1;32m    360\u001b[0m                                  \"call `fit` before exploiting the model.\")\n\u001b[1;32m    361\u001b[0m \u001b[0;34m\u001b[0m\u001b[0m\n\u001b[0;32m--> 362\u001b[0;31m         \u001b[0;32mreturn\u001b[0m \u001b[0mself\u001b[0m\u001b[0;34m.\u001b[0m\u001b[0mestimators_\u001b[0m\u001b[0;34m[\u001b[0m\u001b[0;36m0\u001b[0m\u001b[0;34m]\u001b[0m\u001b[0;34m.\u001b[0m\u001b[0m_validate_X_predict\u001b[0m\u001b[0;34m(\u001b[0m\u001b[0mX\u001b[0m\u001b[0;34m,\u001b[0m \u001b[0mcheck_input\u001b[0m\u001b[0;34m=\u001b[0m\u001b[0;32mTrue\u001b[0m\u001b[0;34m)\u001b[0m\u001b[0;34m\u001b[0m\u001b[0;34m\u001b[0m\u001b[0m\n\u001b[0m\u001b[1;32m    363\u001b[0m \u001b[0;34m\u001b[0m\u001b[0m\n\u001b[1;32m    364\u001b[0m     \u001b[0;34m@\u001b[0m\u001b[0mproperty\u001b[0m\u001b[0;34m\u001b[0m\u001b[0;34m\u001b[0m\u001b[0m\n",
      "\u001b[0;32m~/anaconda3/lib/python3.7/site-packages/sklearn/tree/tree.py\u001b[0m in \u001b[0;36m_validate_X_predict\u001b[0;34m(self, X, check_input)\u001b[0m\n\u001b[1;32m    386\u001b[0m                              \u001b[0;34m\"match the input. Model n_features is %s and \"\u001b[0m\u001b[0;34m\u001b[0m\u001b[0;34m\u001b[0m\u001b[0m\n\u001b[1;32m    387\u001b[0m                              \u001b[0;34m\"input n_features is %s \"\u001b[0m\u001b[0;34m\u001b[0m\u001b[0;34m\u001b[0m\u001b[0m\n\u001b[0;32m--> 388\u001b[0;31m                              % (self.n_features_, n_features))\n\u001b[0m\u001b[1;32m    389\u001b[0m \u001b[0;34m\u001b[0m\u001b[0m\n\u001b[1;32m    390\u001b[0m         \u001b[0;32mreturn\u001b[0m \u001b[0mX\u001b[0m\u001b[0;34m\u001b[0m\u001b[0;34m\u001b[0m\u001b[0m\n",
      "\u001b[0;31mValueError\u001b[0m: Number of features of the model must match the input. Model n_features is 2 and input n_features is 15 "
     ]
    }
   ],
   "source": [
    "train_score=forest.score(Xptrain,yptrain)\n",
    "test_score=forest.score(df_test,yptest)\n",
    "print('Training Score: {}'.format(train_score))\n",
    "print('Testing Score: {}'.format(test_score))"
   ]
  },
  {
   "cell_type": "markdown",
   "metadata": {},
   "source": [
    "## Forest with n_Est=5, max_feat=10, and max_depth=2"
   ]
  },
  {
   "cell_type": "code",
   "execution_count": 62,
   "metadata": {},
   "outputs": [
    {
     "data": {
      "text/plain": [
       "RandomForestClassifier(bootstrap=True, class_weight=None, criterion='gini',\n",
       "            max_depth=2, max_features=10, max_leaf_nodes=None,\n",
       "            min_impurity_decrease=0.0, min_impurity_split=None,\n",
       "            min_samples_leaf=1, min_samples_split=2,\n",
       "            min_weight_fraction_leaf=0.0, n_estimators=5, n_jobs=None,\n",
       "            oob_score=False, random_state=None, verbose=0,\n",
       "            warm_start=False)"
      ]
     },
     "execution_count": 62,
     "metadata": {},
     "output_type": "execute_result"
    }
   ],
   "source": [
    "forest_2 = RandomForestClassifier(n_estimators = 5, max_features= 10, max_depth= 2)\n",
    "forest_2.fit(scaled_data_train, y_train)"
   ]
  },
  {
   "cell_type": "code",
   "execution_count": 63,
   "metadata": {
    "scrolled": true
   },
   "outputs": [
    {
     "name": "stdout",
     "output_type": "stream",
     "text": [
      "Training Score:  0.616504854368932\n",
      "Testing Score:  0.6656976744186046\n"
     ]
    }
   ],
   "source": [
    "print(\"Training Score: \",forest_2.score(scaled_data_train,y_train))\n",
    "print(\"Testing Score: \",forest_2.score(scaled_data_test,y_test))"
   ]
  },
  {
   "cell_type": "markdown",
   "metadata": {},
   "source": [
    "### With Selected Features:"
   ]
  },
  {
   "cell_type": "code",
   "execution_count": 64,
   "metadata": {
    "scrolled": true
   },
   "outputs": [
    {
     "data": {
      "text/plain": [
       "RandomForestClassifier(bootstrap=True, class_weight=None, criterion='gini',\n",
       "            max_depth=2, max_features=10, max_leaf_nodes=None,\n",
       "            min_impurity_decrease=0.0, min_impurity_split=None,\n",
       "            min_samples_leaf=1, min_samples_split=2,\n",
       "            min_weight_fraction_leaf=0.0, n_estimators=5, n_jobs=None,\n",
       "            oob_score=False, random_state=None, verbose=0,\n",
       "            warm_start=False)"
      ]
     },
     "execution_count": 64,
     "metadata": {},
     "output_type": "execute_result"
    }
   ],
   "source": [
    "forest_2 = RandomForestClassifier(n_estimators = 5, max_features= 10, max_depth= 2)\n",
    "forest_2.fit(df_train, y_train)"
   ]
  },
  {
   "cell_type": "code",
   "execution_count": 65,
   "metadata": {},
   "outputs": [
    {
     "name": "stdout",
     "output_type": "stream",
     "text": [
      "Training Score:  0.5922330097087378\n",
      "Testing Score:  0.6453488372093024\n"
     ]
    }
   ],
   "source": [
    "print(\"Training Score: \",forest_2.score(df_train,y_train))\n",
    "print(\"Testing Score: \",forest_2.score(df_test,y_test))"
   ]
  },
  {
   "cell_type": "markdown",
   "metadata": {},
   "source": [
    "## Grid Search Forest All Data"
   ]
  },
  {
   "cell_type": "code",
   "execution_count": 78,
   "metadata": {},
   "outputs": [
    {
     "name": "stdout",
     "output_type": "stream",
     "text": [
      "Mean Cross Validation Score: 57.87%\n"
     ]
    }
   ],
   "source": [
    "dt_clf=RandomForestClassifier()\n",
    "dt_cv_score=cross_val_score(dt_clf, scaled_data_train, y_train)\n",
    "meandtcv=dt_cv_score.mean()\n",
    "print(\"Mean Cross Validation Score: {:.4}%\".format(meandtcv * 100))"
   ]
  },
  {
   "cell_type": "code",
   "execution_count": 81,
   "metadata": {},
   "outputs": [],
   "source": [
    "dt_param_grid = {\n",
    "    'criterion': ['gini', 'entropy'],\n",
    "    'n_estimators':[1,2,3,4,5,6,7,8,9],\n",
    "    'max_depth': [None, 2, 3, 4, 5, 6],\n",
    "    'min_samples_split': [2, 5, 10],\n",
    "    'min_samples_leaf': [1, 2, 3, 4, 5]\n",
    "}"
   ]
  },
  {
   "cell_type": "code",
   "execution_count": 82,
   "metadata": {},
   "outputs": [
    {
     "data": {
      "text/plain": [
       "GridSearchCV(cv=10, error_score='raise-deprecating',\n",
       "       estimator=RandomForestClassifier(bootstrap=True, class_weight=None, criterion='gini',\n",
       "            max_depth=None, max_features='auto', max_leaf_nodes=None,\n",
       "            min_impurity_decrease=0.0, min_impurity_split=None,\n",
       "            min_samples_leaf=1, min_samples_split=2,\n",
       "            min_weight_fraction_leaf=0.0, n_estimators='warn', n_jobs=None,\n",
       "            oob_score=False, random_state=None, verbose=0,\n",
       "            warm_start=False),\n",
       "       fit_params=None, iid='warn', n_jobs=None,\n",
       "       param_grid={'criterion': ['gini', 'entropy'], 'n_estimators': [1, 2, 3, 4, 5, 6, 7, 8, 9], 'max_depth': [None, 2, 3, 4, 5, 6], 'min_samples_split': [2, 5, 10], 'min_samples_leaf': [1, 2, 3, 4, 5]},\n",
       "       pre_dispatch='2*n_jobs', refit=True, return_train_score=True,\n",
       "       scoring=None, verbose=0)"
      ]
     },
     "execution_count": 82,
     "metadata": {},
     "output_type": "execute_result"
    }
   ],
   "source": [
    "dt_grid_search = GridSearchCV(dt_clf, dt_param_grid, cv=10, return_train_score=True)\n",
    "dt_grid_search.fit(scaled_data_train, y_train)"
   ]
  },
  {
   "cell_type": "code",
   "execution_count": 83,
   "metadata": {},
   "outputs": [
    {
     "name": "stdout",
     "output_type": "stream",
     "text": [
      "Mean Training Score: 66.0%\n",
      "Mean Testing Score: 67.44%\n",
      "Best Parameter Combination Found During Grid Search:\n"
     ]
    },
    {
     "data": {
      "text/plain": [
       "{'criterion': 'gini',\n",
       " 'max_depth': None,\n",
       " 'min_samples_leaf': 4,\n",
       " 'min_samples_split': 5,\n",
       " 'n_estimators': 9}"
      ]
     },
     "execution_count": 83,
     "metadata": {},
     "output_type": "execute_result"
    }
   ],
   "source": [
    "dt_gs_training_score = np.mean(dt_grid_search.cv_results_['mean_train_score'])\n",
    "dt_gs_testing_score = dt_grid_search.score(scaled_data_test, y_test)\n",
    "\n",
    "print(\"Mean Training Score: {:.4}%\".format(dt_gs_training_score * 100))\n",
    "print(\"Mean Testing Score: {:.4}%\".format(dt_gs_testing_score * 100))\n",
    "print(\"Best Parameter Combination Found During Grid Search:\")\n",
    "dt_grid_search.best_params_"
   ]
  },
  {
   "cell_type": "code",
   "execution_count": 84,
   "metadata": {},
   "outputs": [
    {
     "data": {
      "text/plain": [
       "RandomForestClassifier(bootstrap=True, class_weight=None, criterion='gini',\n",
       "            max_depth=None, max_features='auto', max_leaf_nodes=None,\n",
       "            min_impurity_decrease=0.0, min_impurity_split=None,\n",
       "            min_samples_leaf=4, min_samples_split=5,\n",
       "            min_weight_fraction_leaf=0.0, n_estimators=9, n_jobs=None,\n",
       "            oob_score=False, random_state=None, verbose=0,\n",
       "            warm_start=False)"
      ]
     },
     "execution_count": 84,
     "metadata": {},
     "output_type": "execute_result"
    }
   ],
   "source": [
    "forest3 = RandomForestClassifier(criterion='gini', max_depth=None,min_samples_leaf=4,min_samples_split=5,n_estimators=9)\n",
    "forest3.fit(scaled_data_train, y_train)"
   ]
  },
  {
   "cell_type": "code",
   "execution_count": 85,
   "metadata": {},
   "outputs": [
    {
     "name": "stdout",
     "output_type": "stream",
     "text": [
      "Precision Score: [0.67164179 0.57142857 0.67355372]\n",
      "Recall Score: [0.49450549 0.37037037 0.81909548]\n",
      "Accuracy Score: 0.6627906976744186\n",
      "F1 Score: [0.56962025 0.4494382  0.73922902]\n"
     ]
    }
   ],
   "source": [
    "y_pred=forest3.predict(scaled_data_test)\n",
    "print_metrics(y_test,y_pred)"
   ]
  },
  {
   "cell_type": "code",
   "execution_count": 86,
   "metadata": {
    "scrolled": true
   },
   "outputs": [
    {
     "name": "stdout",
     "output_type": "stream",
     "text": [
      "Training Score:  0.7631067961165049\n",
      "Testing Score:  0.6627906976744186\n"
     ]
    }
   ],
   "source": [
    "print(\"Training Score: \",forest3.score(scaled_data_train,y_train))\n",
    "print(\"Testing Score: \",forest3.score(scaled_data_test,y_test))"
   ]
  },
  {
   "cell_type": "markdown",
   "metadata": {},
   "source": [
    "#### Grid Search Forest Selected"
   ]
  },
  {
   "cell_type": "code",
   "execution_count": 105,
   "metadata": {},
   "outputs": [
    {
     "name": "stdout",
     "output_type": "stream",
     "text": [
      "Mean Cross Validation Score: 55.25%\n"
     ]
    },
    {
     "data": {
      "text/plain": [
       "GridSearchCV(cv=10, error_score='raise-deprecating',\n",
       "       estimator=RandomForestClassifier(bootstrap=True, class_weight=None, criterion='gini',\n",
       "            max_depth=None, max_features='auto', max_leaf_nodes=None,\n",
       "            min_impurity_decrease=0.0, min_impurity_split=None,\n",
       "            min_samples_leaf=1, min_samples_split=2,\n",
       "            min_weight_fraction_leaf=0.0, n_estimators='warn', n_jobs=None,\n",
       "            oob_score=False, random_state=None, verbose=0,\n",
       "            warm_start=False),\n",
       "       fit_params=None, iid='warn', n_jobs=None,\n",
       "       param_grid={'criterion': ['gini', 'entropy'], 'n_estimators': [1, 2, 3, 4, 5, 6, 7, 8, 9], 'max_depth': [None, 2, 3, 4, 5, 6], 'min_samples_split': [2, 5, 10], 'min_samples_leaf': [1, 2, 3, 4, 5]},\n",
       "       pre_dispatch='2*n_jobs', refit=True, return_train_score=True,\n",
       "       scoring=None, verbose=0)"
      ]
     },
     "execution_count": 105,
     "metadata": {},
     "output_type": "execute_result"
    }
   ],
   "source": [
    "dt_clf=RandomForestClassifier()\n",
    "dt_cv_score=cross_val_score(dt_clf, df_train, y_train)\n",
    "meandtcv=dt_cv_score.mean()\n",
    "print(\"Mean Cross Validation Score: {:.4}%\".format(meandtcv * 100))\n",
    "dt_grid_search = GridSearchCV(dt_clf, dt_param_grid, cv=10, return_train_score=True)\n",
    "dt_grid_search.fit(df_train, y_train)"
   ]
  },
  {
   "cell_type": "code",
   "execution_count": 106,
   "metadata": {
    "scrolled": true
   },
   "outputs": [
    {
     "name": "stdout",
     "output_type": "stream",
     "text": [
      "Mean Training Score: 65.36%\n",
      "Mean Testing Score: 61.63%\n",
      "Best Parameter Combination Found During Grid Search:\n"
     ]
    },
    {
     "data": {
      "text/plain": [
       "{'criterion': 'entropy',\n",
       " 'max_depth': 4,\n",
       " 'min_samples_leaf': 3,\n",
       " 'min_samples_split': 2,\n",
       " 'n_estimators': 5}"
      ]
     },
     "execution_count": 106,
     "metadata": {},
     "output_type": "execute_result"
    }
   ],
   "source": [
    "dt_gs_training_score = np.mean(dt_grid_search.cv_results_['mean_train_score'])\n",
    "dt_gs_testing_score = dt_grid_search.score(df_test, y_test)\n",
    "\n",
    "print(\"Mean Training Score: {:.4}%\".format(dt_gs_training_score * 100))\n",
    "print(\"Mean Testing Score: {:.4}%\".format(dt_gs_testing_score * 100))\n",
    "print(\"Best Parameter Combination Found During Grid Search:\")\n",
    "dt_grid_search.best_params_"
   ]
  },
  {
   "cell_type": "code",
   "execution_count": 107,
   "metadata": {
    "scrolled": true
   },
   "outputs": [
    {
     "data": {
      "text/plain": [
       "RandomForestClassifier(bootstrap=True, class_weight=None, criterion='entropy',\n",
       "            max_depth=4, max_features='auto', max_leaf_nodes=None,\n",
       "            min_impurity_decrease=0.0, min_impurity_split=None,\n",
       "            min_samples_leaf=3, min_samples_split=2,\n",
       "            min_weight_fraction_leaf=0.0, n_estimators=5, n_jobs=None,\n",
       "            oob_score=False, random_state=None, verbose=0,\n",
       "            warm_start=False)"
      ]
     },
     "execution_count": 107,
     "metadata": {},
     "output_type": "execute_result"
    }
   ],
   "source": [
    "forest3 = RandomForestClassifier(criterion='entropy', max_depth=4,min_samples_leaf=3,min_samples_split=2,n_estimators=5)\n",
    "forest3.fit(scaled_data_train, y_train)"
   ]
  },
  {
   "cell_type": "code",
   "execution_count": 108,
   "metadata": {
    "scrolled": true
   },
   "outputs": [
    {
     "name": "stdout",
     "output_type": "stream",
     "text": [
      "Precision Score: [0.70422535 0.48717949 0.67521368]\n",
      "Recall Score: [0.54945055 0.35185185 0.79396985]\n",
      "Accuracy Score: 0.6598837209302325\n",
      "F1 Score: [0.61728395 0.40860215 0.72979215]\n"
     ]
    }
   ],
   "source": [
    "y_pred=forest3.predict(scaled_data_test)\n",
    "print_metrics(y_test,y_pred)"
   ]
  },
  {
   "cell_type": "code",
   "execution_count": 109,
   "metadata": {},
   "outputs": [
    {
     "name": "stdout",
     "output_type": "stream",
     "text": [
      "Training Score:  0.6495145631067961\n",
      "Testing Score:  0.6598837209302325\n"
     ]
    }
   ],
   "source": [
    "print(\"Training Score: \",forest3.score(scaled_data_train,y_train))\n",
    "print(\"Testing Score: \",forest3.score(scaled_data_test,y_test))"
   ]
  },
  {
   "cell_type": "markdown",
   "metadata": {},
   "source": [
    "## SVM"
   ]
  },
  {
   "cell_type": "code",
   "execution_count": 92,
   "metadata": {},
   "outputs": [
    {
     "data": {
      "text/plain": [
       "array([0, 2, 2, 0, 2, 2, 0, 2, 1, 2, 0, 1, 1, 2, 1, 0, 2, 2, 2, 0, 2, 0,\n",
       "       2, 2, 0, 0, 2, 2, 0, 2, 0, 2, 2, 2, 2, 2, 1, 2, 2, 2, 2, 1, 0, 2,\n",
       "       2, 2, 2, 2, 1, 2, 0, 2, 2, 0, 2, 2, 2, 2, 0, 2, 2, 2, 0, 2, 2, 1,\n",
       "       0, 2, 2, 2, 2, 1, 2, 2, 0, 2, 1, 2, 0, 2, 2, 0, 1, 2, 2, 0, 2, 0,\n",
       "       2, 2, 2, 2, 0, 0, 2, 2, 2, 2, 2, 2, 2, 1, 2, 1, 2, 2, 2, 2, 2, 2,\n",
       "       2, 1, 2, 0, 0, 0, 2, 2, 0, 2, 0, 0, 2, 2, 2, 1, 0, 0, 2, 0, 0, 2,\n",
       "       2, 2, 2, 2, 2, 2, 2, 0, 2, 1, 1, 0, 2, 2, 2, 2, 0, 2, 1, 2, 2, 2,\n",
       "       2, 0, 2, 1, 2, 2, 2, 1, 2, 0, 2, 1, 0, 2, 0, 2, 2, 2, 2, 2, 2, 2,\n",
       "       0, 2, 1, 2, 2, 0, 2, 0, 2, 2, 2, 2, 2, 2, 2, 2, 0, 1, 2, 2, 2, 2,\n",
       "       2, 0, 2, 2, 2, 0, 0, 2, 2, 0, 1, 0, 2, 0, 2, 2, 2, 0, 1, 2, 2, 2,\n",
       "       2, 2, 1, 0, 2, 2, 0, 2, 2, 2, 2, 2, 0, 2, 2, 1, 0, 2, 0, 1, 2, 2,\n",
       "       0, 2, 1, 2, 2, 2, 1, 1, 2, 1, 2, 1, 1, 2, 2, 2, 0, 2, 2, 2, 2, 0,\n",
       "       2, 0, 2, 2, 2, 2, 2, 0, 2, 2, 1, 0, 0, 0, 2, 2, 2, 2, 1, 0, 1, 0,\n",
       "       2, 2, 2, 2, 2, 2, 2, 2, 2, 2, 2, 2, 2, 2, 1, 0, 2, 1, 0, 2, 2, 2,\n",
       "       2, 2, 2, 0, 0, 1, 2, 0, 2, 2, 2, 0, 0, 0, 2, 1, 2, 2, 2, 1, 0, 2,\n",
       "       2, 0, 2, 2, 0, 2, 2, 1, 2, 2, 2, 0, 0, 1])"
      ]
     },
     "execution_count": 92,
     "metadata": {},
     "output_type": "execute_result"
    }
   ],
   "source": [
    "clf = svm.SVC(kernel='linear')\n",
    "clf.fit(scaled_data_train, y_train)\n",
    "clf.predict(scaled_data_test)"
   ]
  },
  {
   "cell_type": "markdown",
   "metadata": {},
   "source": [
    "## Naive Bayes"
   ]
  },
  {
   "cell_type": "code",
   "execution_count": 94,
   "metadata": {},
   "outputs": [
    {
     "data": {
      "text/plain": [
       "array([0, 2, 1, 0, 0, 1, 0, 2, 1, 2, 0, 1, 1, 2, 1, 0, 2, 2, 2, 0, 2, 0,\n",
       "       1, 2, 0, 0, 2, 2, 0, 2, 0, 2, 2, 2, 2, 2, 1, 2, 2, 2, 2, 1, 0, 2,\n",
       "       2, 2, 2, 2, 1, 2, 0, 2, 2, 0, 2, 2, 2, 2, 0, 2, 2, 0, 0, 2, 2, 1,\n",
       "       0, 2, 2, 2, 2, 1, 1, 1, 0, 1, 1, 2, 0, 0, 2, 0, 1, 2, 2, 0, 1, 0,\n",
       "       0, 2, 2, 2, 0, 0, 2, 2, 2, 2, 2, 0, 2, 1, 2, 1, 2, 0, 1, 2, 2, 2,\n",
       "       2, 1, 1, 0, 0, 0, 1, 1, 0, 2, 0, 0, 1, 0, 1, 1, 0, 0, 1, 0, 0, 2,\n",
       "       2, 2, 2, 2, 2, 2, 2, 0, 2, 1, 1, 0, 2, 2, 2, 2, 0, 2, 1, 2, 2, 2,\n",
       "       2, 0, 1, 2, 2, 2, 1, 1, 2, 0, 2, 1, 0, 2, 0, 0, 1, 1, 1, 2, 1, 2,\n",
       "       0, 2, 1, 2, 2, 0, 1, 0, 2, 0, 2, 2, 2, 2, 2, 2, 2, 1, 2, 2, 0, 2,\n",
       "       0, 0, 2, 1, 2, 0, 0, 2, 2, 0, 1, 0, 2, 0, 2, 1, 1, 0, 1, 0, 2, 2,\n",
       "       2, 0, 1, 0, 2, 0, 0, 0, 2, 2, 1, 2, 2, 2, 2, 1, 0, 2, 0, 1, 2, 2,\n",
       "       0, 2, 1, 2, 2, 2, 1, 1, 1, 1, 2, 1, 1, 2, 2, 2, 0, 2, 2, 2, 2, 0,\n",
       "       1, 0, 2, 2, 1, 2, 2, 0, 2, 2, 1, 0, 2, 2, 2, 2, 2, 2, 1, 0, 1, 0,\n",
       "       0, 1, 2, 2, 2, 2, 2, 2, 2, 2, 2, 2, 2, 0, 1, 0, 2, 1, 0, 1, 1, 2,\n",
       "       2, 2, 2, 0, 0, 1, 2, 0, 2, 2, 0, 0, 0, 0, 2, 1, 1, 2, 2, 1, 0, 2,\n",
       "       0, 2, 2, 2, 0, 2, 2, 1, 2, 2, 0, 2, 0, 1])"
      ]
     },
     "execution_count": 94,
     "metadata": {},
     "output_type": "execute_result"
    }
   ],
   "source": [
    "from sklearn.naive_bayes import BernoulliNB\n",
    "clf=BernoulliNB()\n",
    "clf.fit(scaled_data_train, y_train)\n",
    "clf.predict(scaled_data_test)"
   ]
  },
  {
   "cell_type": "code",
   "execution_count": 95,
   "metadata": {},
   "outputs": [
    {
     "data": {
      "text/plain": [
       "GaussianNB(priors=None, var_smoothing=1e-09)"
      ]
     },
     "execution_count": 95,
     "metadata": {},
     "output_type": "execute_result"
    }
   ],
   "source": [
    "clf=GaussianNB()\n",
    "clf.fit(scaled_data_train, y_train)"
   ]
  },
  {
   "cell_type": "code",
   "execution_count": 96,
   "metadata": {},
   "outputs": [],
   "source": [
    "def predict_class(obs_row, how='bands', range_width_std=.25):\n",
    "    c_probs = []\n",
    "    for c in range(2):\n",
    "        p = len(y_train[y_train==c])/len(y_train) #Initialize probability to relative probability of class\n",
    "        for feature in scaled_data_train.columns:\n",
    "            if how == 'bands':\n",
    "                p *= p_band_x_given_class(obs_row, feature, c, range_width_std=range_width_std)\n",
    "            else:\n",
    "                p *= p_x_given_class(obs_row, feature, c)\n",
    "        c_probs.append(p)\n",
    "    return np.argmax(c_probs)"
   ]
  },
  {
   "cell_type": "code",
   "execution_count": 97,
   "metadata": {},
   "outputs": [],
   "source": [
    "scaled_data_train=pd.DataFrame(scaled_data_train)\n",
    "scaled_data_test=pd.DataFrame(scaled_data_test)"
   ]
  },
  {
   "cell_type": "markdown",
   "metadata": {},
   "source": [
    "## Adaboost"
   ]
  },
  {
   "cell_type": "code",
   "execution_count": 98,
   "metadata": {},
   "outputs": [
    {
     "data": {
      "text/plain": [
       "AdaBoostClassifier(algorithm='SAMME.R', base_estimator=None,\n",
       "          learning_rate=1.0, n_estimators=50, random_state=None)"
      ]
     },
     "execution_count": 98,
     "metadata": {},
     "output_type": "execute_result"
    }
   ],
   "source": [
    "clfa=AdaBoostClassifier()\n",
    "clfa.fit(scaled_data_train, y_train)"
   ]
  },
  {
   "cell_type": "code",
   "execution_count": 99,
   "metadata": {},
   "outputs": [],
   "source": [
    "adaboost_train_preds = clfa.predict(scaled_data_train)\n",
    "adaboost_test_preds = clfa.predict(scaled_data_test)"
   ]
  },
  {
   "cell_type": "code",
   "execution_count": 100,
   "metadata": {},
   "outputs": [
    {
     "data": {
      "text/plain": [
       "array([[ 53,   1,  37],\n",
       "       [  1,  21,  32],\n",
       "       [ 35,  32, 132]])"
      ]
     },
     "execution_count": 100,
     "metadata": {},
     "output_type": "execute_result"
    }
   ],
   "source": [
    "confusion_matrix(y_test,adaboost_test_preds)"
   ]
  },
  {
   "cell_type": "code",
   "execution_count": 101,
   "metadata": {},
   "outputs": [
    {
     "name": "stdout",
     "output_type": "stream",
     "text": [
      "              precision    recall  f1-score   support\n",
      "\n",
      "           0       0.60      0.58      0.59        91\n",
      "           1       0.39      0.39      0.39        54\n",
      "           2       0.66      0.66      0.66       199\n",
      "\n",
      "   micro avg       0.60      0.60      0.60       344\n",
      "   macro avg       0.55      0.54      0.55       344\n",
      "weighted avg       0.60      0.60      0.60       344\n",
      "\n"
     ]
    }
   ],
   "source": [
    "print(classification_report(y_test, adaboost_test_preds))"
   ]
  }
 ],
 "metadata": {
  "kernelspec": {
   "display_name": "Python 3",
   "language": "python",
   "name": "python3"
  },
  "language_info": {
   "codemirror_mode": {
    "name": "ipython",
    "version": 3
   },
   "file_extension": ".py",
   "mimetype": "text/x-python",
   "name": "python",
   "nbconvert_exporter": "python",
   "pygments_lexer": "ipython3",
   "version": "3.7.3"
  }
 },
 "nbformat": 4,
 "nbformat_minor": 2
}
